{
  "nbformat": 4,
  "nbformat_minor": 0,
  "metadata": {
    "colab": {
      "name": "candy_analyse.ipynb",
      "provenance": [],
      "collapsed_sections": [],
      "mount_file_id": "13VJY9bkfzLgtXZP8WxwEdRZvcxboo3TX",
      "authorship_tag": "ABX9TyNUtQFZP0VROHyFHvgWgV3i",
      "include_colab_link": true
    },
    "kernelspec": {
      "name": "python3",
      "display_name": "Python 3"
    }
  },
  "cells": [
    {
      "cell_type": "markdown",
      "metadata": {
        "id": "view-in-github",
        "colab_type": "text"
      },
      "source": [
        "<a href=\"https://colab.research.google.com/github/ZhiyuanH3/Candy-Analysis/blob/master/candy_analyse.ipynb\" target=\"_parent\"><img src=\"https://colab.research.google.com/assets/colab-badge.svg\" alt=\"Open In Colab\"/></a>"
      ]
    },
    {
      "cell_type": "code",
      "metadata": {
        "id": "ACJ3Dk2zn-jH",
        "colab_type": "code",
        "outputId": "e37f85dc-78f8-4d05-dfdb-509fc575c476",
        "colab": {
          "base_uri": "https://localhost:8080/",
          "height": 134
        }
      },
      "source": [
        "# import all the tools\n",
        "import os\n",
        "from matplotlib import pyplot as plt\n",
        "import seaborn as sb\n",
        "\n",
        "import pandas as pd\n",
        "import numpy as np\n",
        "import scipy as sp\n",
        "from scipy.stats import norm, kstest\n",
        "\n",
        "from hyperopt import fmin, Trials, tpe, hp, anneal\n",
        "\n",
        "from sklearn.externals import joblib\n",
        "from sklearn.model_selection import KFold\n",
        "from sklearn.metrics import mean_squared_error as mse\n",
        "from sklearn.linear_model import LinearRegression as LR\n",
        "from sklearn.linear_model import Ridge \n",
        "from sklearn.linear_model import Lasso\n",
        "from sklearn.ensemble import RandomForestRegressor as RFR\n",
        "\n",
        "import statsmodels.api as sm\n",
        "\n",
        "from keras import Sequential\n",
        "from keras.layers import Dense \n",
        "from keras.callbacks import EarlyStopping\n",
        "\n",
        "import warnings\n",
        "warnings.filterwarnings(\"ignore\")"
      ],
      "execution_count": 0,
      "outputs": [
        {
          "output_type": "stream",
          "text": [
            "/usr/local/lib/python3.6/dist-packages/sklearn/externals/joblib/__init__.py:15: FutureWarning: sklearn.externals.joblib is deprecated in 0.21 and will be removed in 0.23. Please import this functionality directly from joblib, which can be installed with: pip install joblib. If this warning is raised when loading pickled models, you may need to re-serialize those models with scikit-learn 0.21+.\n",
            "  warnings.warn(msg, category=FutureWarning)\n",
            "Using TensorFlow backend.\n"
          ],
          "name": "stderr"
        },
        {
          "output_type": "display_data",
          "data": {
            "text/html": [
              "<p style=\"color: red;\">\n",
              "The default version of TensorFlow in Colab will soon switch to TensorFlow 2.x.<br>\n",
              "We recommend you <a href=\"https://www.tensorflow.org/guide/migrate\" target=\"_blank\">upgrade</a> now \n",
              "or ensure your notebook will continue to use TensorFlow 1.x via the <code>%tensorflow_version 1.x</code> magic:\n",
              "<a href=\"https://colab.research.google.com/notebooks/tensorflow_version.ipynb\" target=\"_blank\">more info</a>.</p>\n"
            ],
            "text/plain": [
              "<IPython.core.display.HTML object>"
            ]
          },
          "metadata": {
            "tags": []
          }
        }
      ]
    },
    {
      "cell_type": "code",
      "metadata": {
        "id": "G202iLdr5NG_",
        "colab_type": "code",
        "outputId": "408d2125-32c1-473e-d570-350aa7368d8a",
        "colab": {
          "base_uri": "https://localhost:8080/",
          "height": 34
        }
      },
      "source": [
        "!ls drive/My\\ Drive/save/"
      ],
      "execution_count": 0,
      "outputs": [
        {
          "output_type": "stream",
          "text": [
            "abr_trials.joblib  rfr_trials.joblib\n"
          ],
          "name": "stdout"
        }
      ]
    },
    {
      "cell_type": "code",
      "metadata": {
        "id": "w82cSd2LnbDf",
        "colab_type": "code",
        "outputId": "f1ffe87f-ad73-444a-d91a-d737455765d6",
        "colab": {
          "base_uri": "https://localhost:8080/",
          "height": 34
        }
      },
      "source": [
        "import urllib.request\n",
        "\n",
        "# download csv data file\n",
        "url = 'https://raw.githubusercontent.com/fivethirtyeight/data/master/candy-power-ranking/candy-data.csv'\n",
        "urllib.request.urlretrieve(url, './candy-data.csv')"
      ],
      "execution_count": 0,
      "outputs": [
        {
          "output_type": "execute_result",
          "data": {
            "text/plain": [
              "('./candy-data.csv', <http.client.HTTPMessage at 0x7f783ac3eeb8>)"
            ]
          },
          "metadata": {
            "tags": []
          },
          "execution_count": 2
        }
      ]
    },
    {
      "cell_type": "code",
      "metadata": {
        "id": "R8QJjA4doB0w",
        "colab_type": "code",
        "outputId": "70366c7e-280d-4b03-f405-3b2d447992ea",
        "colab": {
          "base_uri": "https://localhost:8080/",
          "height": 173
        }
      },
      "source": [
        "# read the csv file\n",
        "inf = pd.read_csv('./candy-data.csv')\n",
        "inf.head(4)"
      ],
      "execution_count": 0,
      "outputs": [
        {
          "output_type": "execute_result",
          "data": {
            "text/html": [
              "<div>\n",
              "<style scoped>\n",
              "    .dataframe tbody tr th:only-of-type {\n",
              "        vertical-align: middle;\n",
              "    }\n",
              "\n",
              "    .dataframe tbody tr th {\n",
              "        vertical-align: top;\n",
              "    }\n",
              "\n",
              "    .dataframe thead th {\n",
              "        text-align: right;\n",
              "    }\n",
              "</style>\n",
              "<table border=\"1\" class=\"dataframe\">\n",
              "  <thead>\n",
              "    <tr style=\"text-align: right;\">\n",
              "      <th></th>\n",
              "      <th>competitorname</th>\n",
              "      <th>chocolate</th>\n",
              "      <th>fruity</th>\n",
              "      <th>caramel</th>\n",
              "      <th>peanutyalmondy</th>\n",
              "      <th>nougat</th>\n",
              "      <th>crispedricewafer</th>\n",
              "      <th>hard</th>\n",
              "      <th>bar</th>\n",
              "      <th>pluribus</th>\n",
              "      <th>sugarpercent</th>\n",
              "      <th>pricepercent</th>\n",
              "      <th>winpercent</th>\n",
              "    </tr>\n",
              "  </thead>\n",
              "  <tbody>\n",
              "    <tr>\n",
              "      <th>0</th>\n",
              "      <td>100 Grand</td>\n",
              "      <td>1</td>\n",
              "      <td>0</td>\n",
              "      <td>1</td>\n",
              "      <td>0</td>\n",
              "      <td>0</td>\n",
              "      <td>1</td>\n",
              "      <td>0</td>\n",
              "      <td>1</td>\n",
              "      <td>0</td>\n",
              "      <td>0.732</td>\n",
              "      <td>0.860</td>\n",
              "      <td>66.971725</td>\n",
              "    </tr>\n",
              "    <tr>\n",
              "      <th>1</th>\n",
              "      <td>3 Musketeers</td>\n",
              "      <td>1</td>\n",
              "      <td>0</td>\n",
              "      <td>0</td>\n",
              "      <td>0</td>\n",
              "      <td>1</td>\n",
              "      <td>0</td>\n",
              "      <td>0</td>\n",
              "      <td>1</td>\n",
              "      <td>0</td>\n",
              "      <td>0.604</td>\n",
              "      <td>0.511</td>\n",
              "      <td>67.602936</td>\n",
              "    </tr>\n",
              "    <tr>\n",
              "      <th>2</th>\n",
              "      <td>One dime</td>\n",
              "      <td>0</td>\n",
              "      <td>0</td>\n",
              "      <td>0</td>\n",
              "      <td>0</td>\n",
              "      <td>0</td>\n",
              "      <td>0</td>\n",
              "      <td>0</td>\n",
              "      <td>0</td>\n",
              "      <td>0</td>\n",
              "      <td>0.011</td>\n",
              "      <td>0.116</td>\n",
              "      <td>32.261086</td>\n",
              "    </tr>\n",
              "    <tr>\n",
              "      <th>3</th>\n",
              "      <td>One quarter</td>\n",
              "      <td>0</td>\n",
              "      <td>0</td>\n",
              "      <td>0</td>\n",
              "      <td>0</td>\n",
              "      <td>0</td>\n",
              "      <td>0</td>\n",
              "      <td>0</td>\n",
              "      <td>0</td>\n",
              "      <td>0</td>\n",
              "      <td>0.011</td>\n",
              "      <td>0.511</td>\n",
              "      <td>46.116505</td>\n",
              "    </tr>\n",
              "  </tbody>\n",
              "</table>\n",
              "</div>"
            ],
            "text/plain": [
              "  competitorname  chocolate  fruity  ...  sugarpercent  pricepercent  winpercent\n",
              "0      100 Grand          1       0  ...         0.732         0.860   66.971725\n",
              "1   3 Musketeers          1       0  ...         0.604         0.511   67.602936\n",
              "2       One dime          0       0  ...         0.011         0.116   32.261086\n",
              "3    One quarter          0       0  ...         0.011         0.511   46.116505\n",
              "\n",
              "[4 rows x 13 columns]"
            ]
          },
          "metadata": {
            "tags": []
          },
          "execution_count": 3
        }
      ]
    },
    {
      "cell_type": "code",
      "metadata": {
        "id": "zGBjN1gtb9Q3",
        "colab_type": "code",
        "outputId": "7623fd05-a9d1-4d2a-efec-23d54e9ec60f",
        "colab": {
          "base_uri": "https://localhost:8080/",
          "height": 173
        }
      },
      "source": [
        "# drop the 'One dime' and 'One quarter' entries, since they are not really candies\n",
        "inf.drop([2,3], axis=0, inplace=True)\n",
        "inf.head(4)"
      ],
      "execution_count": 0,
      "outputs": [
        {
          "output_type": "execute_result",
          "data": {
            "text/html": [
              "<div>\n",
              "<style scoped>\n",
              "    .dataframe tbody tr th:only-of-type {\n",
              "        vertical-align: middle;\n",
              "    }\n",
              "\n",
              "    .dataframe tbody tr th {\n",
              "        vertical-align: top;\n",
              "    }\n",
              "\n",
              "    .dataframe thead th {\n",
              "        text-align: right;\n",
              "    }\n",
              "</style>\n",
              "<table border=\"1\" class=\"dataframe\">\n",
              "  <thead>\n",
              "    <tr style=\"text-align: right;\">\n",
              "      <th></th>\n",
              "      <th>competitorname</th>\n",
              "      <th>chocolate</th>\n",
              "      <th>fruity</th>\n",
              "      <th>caramel</th>\n",
              "      <th>peanutyalmondy</th>\n",
              "      <th>nougat</th>\n",
              "      <th>crispedricewafer</th>\n",
              "      <th>hard</th>\n",
              "      <th>bar</th>\n",
              "      <th>pluribus</th>\n",
              "      <th>sugarpercent</th>\n",
              "      <th>pricepercent</th>\n",
              "      <th>winpercent</th>\n",
              "    </tr>\n",
              "  </thead>\n",
              "  <tbody>\n",
              "    <tr>\n",
              "      <th>0</th>\n",
              "      <td>100 Grand</td>\n",
              "      <td>1</td>\n",
              "      <td>0</td>\n",
              "      <td>1</td>\n",
              "      <td>0</td>\n",
              "      <td>0</td>\n",
              "      <td>1</td>\n",
              "      <td>0</td>\n",
              "      <td>1</td>\n",
              "      <td>0</td>\n",
              "      <td>0.732</td>\n",
              "      <td>0.860</td>\n",
              "      <td>66.971725</td>\n",
              "    </tr>\n",
              "    <tr>\n",
              "      <th>1</th>\n",
              "      <td>3 Musketeers</td>\n",
              "      <td>1</td>\n",
              "      <td>0</td>\n",
              "      <td>0</td>\n",
              "      <td>0</td>\n",
              "      <td>1</td>\n",
              "      <td>0</td>\n",
              "      <td>0</td>\n",
              "      <td>1</td>\n",
              "      <td>0</td>\n",
              "      <td>0.604</td>\n",
              "      <td>0.511</td>\n",
              "      <td>67.602936</td>\n",
              "    </tr>\n",
              "    <tr>\n",
              "      <th>4</th>\n",
              "      <td>Air Heads</td>\n",
              "      <td>0</td>\n",
              "      <td>1</td>\n",
              "      <td>0</td>\n",
              "      <td>0</td>\n",
              "      <td>0</td>\n",
              "      <td>0</td>\n",
              "      <td>0</td>\n",
              "      <td>0</td>\n",
              "      <td>0</td>\n",
              "      <td>0.906</td>\n",
              "      <td>0.511</td>\n",
              "      <td>52.341465</td>\n",
              "    </tr>\n",
              "    <tr>\n",
              "      <th>5</th>\n",
              "      <td>Almond Joy</td>\n",
              "      <td>1</td>\n",
              "      <td>0</td>\n",
              "      <td>0</td>\n",
              "      <td>1</td>\n",
              "      <td>0</td>\n",
              "      <td>0</td>\n",
              "      <td>0</td>\n",
              "      <td>1</td>\n",
              "      <td>0</td>\n",
              "      <td>0.465</td>\n",
              "      <td>0.767</td>\n",
              "      <td>50.347546</td>\n",
              "    </tr>\n",
              "  </tbody>\n",
              "</table>\n",
              "</div>"
            ],
            "text/plain": [
              "  competitorname  chocolate  fruity  ...  sugarpercent  pricepercent  winpercent\n",
              "0      100 Grand          1       0  ...         0.732         0.860   66.971725\n",
              "1   3 Musketeers          1       0  ...         0.604         0.511   67.602936\n",
              "4      Air Heads          0       1  ...         0.906         0.511   52.341465\n",
              "5     Almond Joy          1       0  ...         0.465         0.767   50.347546\n",
              "\n",
              "[4 rows x 13 columns]"
            ]
          },
          "metadata": {
            "tags": []
          },
          "execution_count": 4
        }
      ]
    },
    {
      "cell_type": "code",
      "metadata": {
        "id": "HkmebcPNpz-o",
        "colab_type": "code",
        "outputId": "2c61be1c-3fdb-4449-e05b-04a064105a29",
        "colab": {
          "base_uri": "https://localhost:8080/",
          "height": 34
        }
      },
      "source": [
        "nRows, nCols = inf.shape\n",
        "print('We have ', nRows, ' entries and ', nCols, ' variables.')"
      ],
      "execution_count": 0,
      "outputs": [
        {
          "output_type": "stream",
          "text": [
            "We have  83  entries and  13  variables.\n"
          ],
          "name": "stdout"
        }
      ]
    },
    {
      "cell_type": "code",
      "metadata": {
        "id": "KFRDfpPjpPev",
        "colab_type": "code",
        "outputId": "183382d2-86b2-46fa-af1f-db90c1c506a2",
        "colab": {
          "base_uri": "https://localhost:8080/",
          "height": 255
        }
      },
      "source": [
        "# check if there're empty entries\n",
        "inf.isna().sum()"
      ],
      "execution_count": 0,
      "outputs": [
        {
          "output_type": "execute_result",
          "data": {
            "text/plain": [
              "competitorname      0\n",
              "chocolate           0\n",
              "fruity              0\n",
              "caramel             0\n",
              "peanutyalmondy      0\n",
              "nougat              0\n",
              "crispedricewafer    0\n",
              "hard                0\n",
              "bar                 0\n",
              "pluribus            0\n",
              "sugarpercent        0\n",
              "pricepercent        0\n",
              "winpercent          0\n",
              "dtype: int64"
            ]
          },
          "metadata": {
            "tags": []
          },
          "execution_count": 6
        }
      ]
    },
    {
      "cell_type": "code",
      "metadata": {
        "id": "QObP-6qX2h21",
        "colab_type": "code",
        "outputId": "bb114db2-5547-4ad7-e029-83dad9abbbec",
        "colab": {
          "base_uri": "https://localhost:8080/",
          "height": 221
        }
      },
      "source": [
        "inf[inf.winpercent>75].sort_values(by='winpercent', ascending=False)"
      ],
      "execution_count": 0,
      "outputs": [
        {
          "output_type": "execute_result",
          "data": {
            "text/html": [
              "<div>\n",
              "<style scoped>\n",
              "    .dataframe tbody tr th:only-of-type {\n",
              "        vertical-align: middle;\n",
              "    }\n",
              "\n",
              "    .dataframe tbody tr th {\n",
              "        vertical-align: top;\n",
              "    }\n",
              "\n",
              "    .dataframe thead th {\n",
              "        text-align: right;\n",
              "    }\n",
              "</style>\n",
              "<table border=\"1\" class=\"dataframe\">\n",
              "  <thead>\n",
              "    <tr style=\"text-align: right;\">\n",
              "      <th></th>\n",
              "      <th>competitorname</th>\n",
              "      <th>chocolate</th>\n",
              "      <th>fruity</th>\n",
              "      <th>caramel</th>\n",
              "      <th>peanutyalmondy</th>\n",
              "      <th>nougat</th>\n",
              "      <th>crispedricewafer</th>\n",
              "      <th>hard</th>\n",
              "      <th>bar</th>\n",
              "      <th>pluribus</th>\n",
              "      <th>sugarpercent</th>\n",
              "      <th>pricepercent</th>\n",
              "      <th>winpercent</th>\n",
              "    </tr>\n",
              "  </thead>\n",
              "  <tbody>\n",
              "    <tr>\n",
              "      <th>52</th>\n",
              "      <td>ReeseÕs Peanut Butter cup</td>\n",
              "      <td>1</td>\n",
              "      <td>0</td>\n",
              "      <td>0</td>\n",
              "      <td>1</td>\n",
              "      <td>0</td>\n",
              "      <td>0</td>\n",
              "      <td>0</td>\n",
              "      <td>0</td>\n",
              "      <td>0</td>\n",
              "      <td>0.720</td>\n",
              "      <td>0.651</td>\n",
              "      <td>84.180290</td>\n",
              "    </tr>\n",
              "    <tr>\n",
              "      <th>51</th>\n",
              "      <td>ReeseÕs Miniatures</td>\n",
              "      <td>1</td>\n",
              "      <td>0</td>\n",
              "      <td>0</td>\n",
              "      <td>1</td>\n",
              "      <td>0</td>\n",
              "      <td>0</td>\n",
              "      <td>0</td>\n",
              "      <td>0</td>\n",
              "      <td>0</td>\n",
              "      <td>0.034</td>\n",
              "      <td>0.279</td>\n",
              "      <td>81.866257</td>\n",
              "    </tr>\n",
              "    <tr>\n",
              "      <th>79</th>\n",
              "      <td>Twix</td>\n",
              "      <td>1</td>\n",
              "      <td>0</td>\n",
              "      <td>1</td>\n",
              "      <td>0</td>\n",
              "      <td>0</td>\n",
              "      <td>1</td>\n",
              "      <td>0</td>\n",
              "      <td>1</td>\n",
              "      <td>0</td>\n",
              "      <td>0.546</td>\n",
              "      <td>0.906</td>\n",
              "      <td>81.642914</td>\n",
              "    </tr>\n",
              "    <tr>\n",
              "      <th>28</th>\n",
              "      <td>Kit Kat</td>\n",
              "      <td>1</td>\n",
              "      <td>0</td>\n",
              "      <td>0</td>\n",
              "      <td>0</td>\n",
              "      <td>0</td>\n",
              "      <td>1</td>\n",
              "      <td>0</td>\n",
              "      <td>1</td>\n",
              "      <td>0</td>\n",
              "      <td>0.313</td>\n",
              "      <td>0.511</td>\n",
              "      <td>76.768600</td>\n",
              "    </tr>\n",
              "    <tr>\n",
              "      <th>64</th>\n",
              "      <td>Snickers</td>\n",
              "      <td>1</td>\n",
              "      <td>0</td>\n",
              "      <td>1</td>\n",
              "      <td>1</td>\n",
              "      <td>1</td>\n",
              "      <td>0</td>\n",
              "      <td>0</td>\n",
              "      <td>1</td>\n",
              "      <td>0</td>\n",
              "      <td>0.546</td>\n",
              "      <td>0.651</td>\n",
              "      <td>76.673782</td>\n",
              "    </tr>\n",
              "  </tbody>\n",
              "</table>\n",
              "</div>"
            ],
            "text/plain": [
              "               competitorname  chocolate  ...  pricepercent  winpercent\n",
              "52  ReeseÕs Peanut Butter cup          1  ...         0.651   84.180290\n",
              "51         ReeseÕs Miniatures          1  ...         0.279   81.866257\n",
              "79                       Twix          1  ...         0.906   81.642914\n",
              "28                    Kit Kat          1  ...         0.511   76.768600\n",
              "64                   Snickers          1  ...         0.651   76.673782\n",
              "\n",
              "[5 rows x 13 columns]"
            ]
          },
          "metadata": {
            "tags": []
          },
          "execution_count": 11
        }
      ]
    },
    {
      "cell_type": "code",
      "metadata": {
        "id": "zNgrlWoL1x5F",
        "colab_type": "code",
        "outputId": "9de1c644-3e17-465b-8808-70343dcb2adc",
        "colab": {
          "base_uri": "https://localhost:8080/",
          "height": 235
        }
      },
      "source": [
        "inf[inf.winpercent<30].sort_values(by='winpercent', ascending=True)"
      ],
      "execution_count": 0,
      "outputs": [
        {
          "output_type": "execute_result",
          "data": {
            "text/html": [
              "<div>\n",
              "<style scoped>\n",
              "    .dataframe tbody tr th:only-of-type {\n",
              "        vertical-align: middle;\n",
              "    }\n",
              "\n",
              "    .dataframe tbody tr th {\n",
              "        vertical-align: top;\n",
              "    }\n",
              "\n",
              "    .dataframe thead th {\n",
              "        text-align: right;\n",
              "    }\n",
              "</style>\n",
              "<table border=\"1\" class=\"dataframe\">\n",
              "  <thead>\n",
              "    <tr style=\"text-align: right;\">\n",
              "      <th></th>\n",
              "      <th>competitorname</th>\n",
              "      <th>chocolate</th>\n",
              "      <th>fruity</th>\n",
              "      <th>caramel</th>\n",
              "      <th>peanutyalmondy</th>\n",
              "      <th>nougat</th>\n",
              "      <th>crispedricewafer</th>\n",
              "      <th>hard</th>\n",
              "      <th>bar</th>\n",
              "      <th>pluribus</th>\n",
              "      <th>sugarpercent</th>\n",
              "      <th>pricepercent</th>\n",
              "      <th>winpercent</th>\n",
              "    </tr>\n",
              "  </thead>\n",
              "  <tbody>\n",
              "    <tr>\n",
              "      <th>44</th>\n",
              "      <td>Nik L Nip</td>\n",
              "      <td>0</td>\n",
              "      <td>1</td>\n",
              "      <td>0</td>\n",
              "      <td>0</td>\n",
              "      <td>0</td>\n",
              "      <td>0</td>\n",
              "      <td>0</td>\n",
              "      <td>0</td>\n",
              "      <td>1</td>\n",
              "      <td>0.197</td>\n",
              "      <td>0.976</td>\n",
              "      <td>22.445341</td>\n",
              "    </tr>\n",
              "    <tr>\n",
              "      <th>7</th>\n",
              "      <td>Boston Baked Beans</td>\n",
              "      <td>0</td>\n",
              "      <td>0</td>\n",
              "      <td>0</td>\n",
              "      <td>1</td>\n",
              "      <td>0</td>\n",
              "      <td>0</td>\n",
              "      <td>0</td>\n",
              "      <td>0</td>\n",
              "      <td>1</td>\n",
              "      <td>0.313</td>\n",
              "      <td>0.511</td>\n",
              "      <td>23.417824</td>\n",
              "    </tr>\n",
              "    <tr>\n",
              "      <th>12</th>\n",
              "      <td>Chiclets</td>\n",
              "      <td>0</td>\n",
              "      <td>1</td>\n",
              "      <td>0</td>\n",
              "      <td>0</td>\n",
              "      <td>0</td>\n",
              "      <td>0</td>\n",
              "      <td>0</td>\n",
              "      <td>0</td>\n",
              "      <td>1</td>\n",
              "      <td>0.046</td>\n",
              "      <td>0.325</td>\n",
              "      <td>24.524988</td>\n",
              "    </tr>\n",
              "    <tr>\n",
              "      <th>72</th>\n",
              "      <td>Super Bubble</td>\n",
              "      <td>0</td>\n",
              "      <td>1</td>\n",
              "      <td>0</td>\n",
              "      <td>0</td>\n",
              "      <td>0</td>\n",
              "      <td>0</td>\n",
              "      <td>0</td>\n",
              "      <td>0</td>\n",
              "      <td>0</td>\n",
              "      <td>0.162</td>\n",
              "      <td>0.116</td>\n",
              "      <td>27.303865</td>\n",
              "    </tr>\n",
              "    <tr>\n",
              "      <th>26</th>\n",
              "      <td>Jawbusters</td>\n",
              "      <td>0</td>\n",
              "      <td>1</td>\n",
              "      <td>0</td>\n",
              "      <td>0</td>\n",
              "      <td>0</td>\n",
              "      <td>0</td>\n",
              "      <td>1</td>\n",
              "      <td>0</td>\n",
              "      <td>1</td>\n",
              "      <td>0.093</td>\n",
              "      <td>0.511</td>\n",
              "      <td>28.127439</td>\n",
              "    </tr>\n",
              "    <tr>\n",
              "      <th>57</th>\n",
              "      <td>Root Beer Barrels</td>\n",
              "      <td>0</td>\n",
              "      <td>0</td>\n",
              "      <td>0</td>\n",
              "      <td>0</td>\n",
              "      <td>0</td>\n",
              "      <td>0</td>\n",
              "      <td>1</td>\n",
              "      <td>0</td>\n",
              "      <td>1</td>\n",
              "      <td>0.732</td>\n",
              "      <td>0.069</td>\n",
              "      <td>29.703691</td>\n",
              "    </tr>\n",
              "  </tbody>\n",
              "</table>\n",
              "</div>"
            ],
            "text/plain": [
              "        competitorname  chocolate  ...  pricepercent  winpercent\n",
              "44           Nik L Nip          0  ...         0.976   22.445341\n",
              "7   Boston Baked Beans          0  ...         0.511   23.417824\n",
              "12            Chiclets          0  ...         0.325   24.524988\n",
              "72        Super Bubble          0  ...         0.116   27.303865\n",
              "26          Jawbusters          0  ...         0.511   28.127439\n",
              "57   Root Beer Barrels          0  ...         0.069   29.703691\n",
              "\n",
              "[6 rows x 13 columns]"
            ]
          },
          "metadata": {
            "tags": []
          },
          "execution_count": 12
        }
      ]
    },
    {
      "cell_type": "code",
      "metadata": {
        "id": "Y_yUTAaNKlXo",
        "colab_type": "code",
        "outputId": "a2ff731f-390a-46a9-b13c-36cb53588dd0",
        "colab": {
          "base_uri": "https://localhost:8080/",
          "height": 578
        }
      },
      "source": [
        "# function to generate ID that specifies the discrete features of a candy \n",
        "def gen_dupl_ID(row):\n",
        "    id = ''\n",
        "    for key in row:\n",
        "        id += str(key)\n",
        "    return id\n",
        "\n",
        "df_with_ID = inf.copy()\n",
        "df_with_ID['dupl_ID'] = inf.drop(['competitorname','sugarpercent','pricepercent','winpercent'], axis=1).apply(gen_dupl_ID, axis=1)\n",
        "\n",
        "# check duplicated entries if continues variables not included\n",
        "df_dupl = df_with_ID[['chocolate','dupl_ID']] \n",
        "print('Total number of duplicated entries: ', df_dupl.duplicated().sum())\n",
        "df_dupl = df_dupl[df_dupl.duplicated(keep=False)]\n",
        "\n",
        "\n",
        "dupl_group = df_dupl.groupby('dupl_ID')\n",
        "for key, dfi in dupl_group:\n",
        "    print('dupl_ID: ', key)\n",
        "    print('number of duplicates: ', len(dfi))\n",
        "\n",
        "# 19 entries have the same categorical config --> is this a problem? "
      ],
      "execution_count": 0,
      "outputs": [
        {
          "output_type": "stream",
          "text": [
            "Total number of duplicated entries:  55\n",
            "dupl_ID:  000000001\n",
            "number of duplicates:  3\n",
            "dupl_ID:  010000000\n",
            "number of duplicates:  5\n",
            "dupl_ID:  010000001\n",
            "number of duplicates:  19\n",
            "dupl_ID:  010000100\n",
            "number of duplicates:  5\n",
            "dupl_ID:  010000101\n",
            "number of duplicates:  7\n",
            "dupl_ID:  100000001\n",
            "number of duplicates:  6\n",
            "dupl_ID:  100000010\n",
            "number of duplicates:  4\n",
            "dupl_ID:  100001010\n",
            "number of duplicates:  3\n",
            "dupl_ID:  100010010\n",
            "number of duplicates:  2\n",
            "dupl_ID:  100100000\n",
            "number of duplicates:  3\n",
            "dupl_ID:  100100001\n",
            "number of duplicates:  3\n",
            "dupl_ID:  100100010\n",
            "number of duplicates:  3\n",
            "dupl_ID:  101000001\n",
            "number of duplicates:  2\n",
            "dupl_ID:  101001010\n",
            "number of duplicates:  2\n",
            "dupl_ID:  101010010\n",
            "number of duplicates:  2\n",
            "dupl_ID:  101110010\n",
            "number of duplicates:  2\n"
          ],
          "name": "stdout"
        }
      ]
    },
    {
      "cell_type": "code",
      "metadata": {
        "id": "_WmGYDYm_DbC",
        "colab_type": "code",
        "colab": {}
      },
      "source": [
        "# store the IDs of the candys that have high discrete feature duplication\n",
        "n_dupls = [19,7,6]\n",
        "key_dupl = {}\n",
        "for key, dfi in dupl_group:\n",
        "    n_dupl = len(dfi)\n",
        "    for i in n_dupls:\n",
        "        if n_dupl == i:\n",
        "            key_dupl[i] = key"
      ],
      "execution_count": 0,
      "outputs": []
    },
    {
      "cell_type": "code",
      "metadata": {
        "id": "0FkMBAuV8sUc",
        "colab_type": "code",
        "outputId": "b21076b3-e89e-49b7-ad63-407c6af06264",
        "colab": {
          "base_uri": "https://localhost:8080/",
          "height": 170
        }
      },
      "source": [
        "cols = list(inf.columns)\n",
        "\n",
        "# discrete feature names: discard candy names and continues variables here \n",
        "ingredients = cols[1:-3]\n",
        "ingredients"
      ],
      "execution_count": 0,
      "outputs": [
        {
          "output_type": "execute_result",
          "data": {
            "text/plain": [
              "['chocolate',\n",
              " 'fruity',\n",
              " 'caramel',\n",
              " 'peanutyalmondy',\n",
              " 'nougat',\n",
              " 'crispedricewafer',\n",
              " 'hard',\n",
              " 'bar',\n",
              " 'pluribus']"
            ]
          },
          "metadata": {
            "tags": []
          },
          "execution_count": 6
        }
      ]
    },
    {
      "cell_type": "code",
      "metadata": {
        "id": "8SAuPR6e38uQ",
        "colab_type": "code",
        "outputId": "809058d4-793f-40c9-bae5-d3c2aa81bb0c",
        "colab": {
          "base_uri": "https://localhost:8080/",
          "height": 854
        }
      },
      "source": [
        "# relationships between contintuous variables and 'winpercent' for candies with identical discrete feature configuration\n",
        "same_ID = {}\n",
        "df_tmp = df_with_ID.drop(ingredients+['competitorname','dupl_ID'], axis=1)\n",
        "for i in n_dupls:\n",
        "    same_ID[i] = df_tmp[df_with_ID.dupl_ID == key_dupl[i]]\n",
        "\n",
        "for i in n_dupls:\n",
        "    print('num of duplicated entries: ', i)\n",
        "    plt.scatter(same_ID[i].winpercent, same_ID[i].sugarpercent, label='sugar')\n",
        "    plt.scatter(same_ID[i].winpercent, same_ID[i].pricepercent, label='price')\n",
        "    plt.xlabel('winpercent')\n",
        "    plt.legend()\n",
        "    plt.show()\n",
        "    plt.close()"
      ],
      "execution_count": 0,
      "outputs": [
        {
          "output_type": "stream",
          "text": [
            "num of duplicated entries:  19\n"
          ],
          "name": "stdout"
        },
        {
          "output_type": "display_data",
          "data": {
            "image/png": "[encoded data removed]",
            "text/plain": [
              "<Figure size 432x288 with 1 Axes>"
            ]
          },
          "metadata": {
            "tags": []
          }
        },
        {
          "output_type": "stream",
          "text": [
            "num of duplicated entries:  7\n"
          ],
          "name": "stdout"
        },
        {
          "output_type": "display_data",
          "data": {
            "image/png": "[encoded data removed]",
            "text/plain": [
              "<Figure size 432x288 with 1 Axes>"
            ]
          },
          "metadata": {
            "tags": []
          }
        },
        {
          "output_type": "stream",
          "text": [
            "num of duplicated entries:  6\n"
          ],
          "name": "stdout"
        },
        {
          "output_type": "display_data",
          "data": {
            "image/png": "[encoded data removed]",
            "text/plain": [
              "<Figure size 432x288 with 1 Axes>"
            ]
          },
          "metadata": {
            "tags": []
          }
        }
      ]
    },
    {
      "cell_type": "code",
      "metadata": {
        "id": "6Qwa3Xj8-rWM",
        "colab_type": "code",
        "outputId": "be7cdc3b-fdff-4e5d-f545-5c5ed5f519a4",
        "colab": {
          "base_uri": "https://localhost:8080/",
          "height": 272
        }
      },
      "source": [
        "# the corresponding correlation matrices\n",
        "for i in n_dupls:\n",
        "    print('num of duplicated entries: ', i)\n",
        "    print(same_ID[i].corr())\n",
        "\n",
        "# no consistent correlation found"
      ],
      "execution_count": 0,
      "outputs": [
        {
          "output_type": "stream",
          "text": [
            "num of duplicated entries:  19\n",
            "              sugarpercent  pricepercent  winpercent\n",
            "sugarpercent      1.000000      0.145797    0.195447\n",
            "pricepercent      0.145797      1.000000   -0.388035\n",
            "winpercent        0.195447     -0.388035    1.000000\n",
            "num of duplicated entries:  7\n",
            "              sugarpercent  pricepercent  winpercent\n",
            "sugarpercent      1.000000      0.028153    0.655700\n",
            "pricepercent      0.028153      1.000000   -0.091717\n",
            "winpercent        0.655700     -0.091717    1.000000\n",
            "num of duplicated entries:  6\n",
            "              sugarpercent  pricepercent  winpercent\n",
            "sugarpercent      1.000000      0.452989    0.574848\n",
            "pricepercent      0.452989      1.000000    0.119001\n",
            "winpercent        0.574848      0.119001    1.000000\n"
          ],
          "name": "stdout"
        }
      ]
    },
    {
      "cell_type": "code",
      "metadata": {
        "id": "tleyZNu8pWFy",
        "colab_type": "code",
        "outputId": "cffb6931-866d-4374-cc7e-53058526e964",
        "colab": {
          "base_uri": "https://localhost:8080/",
          "height": 361
        }
      },
      "source": [
        "# check the dependencies of the variables \n",
        "sb.heatmap(inf.corr())\n",
        "#inf.corr()"
      ],
      "execution_count": 0,
      "outputs": [
        {
          "output_type": "execute_result",
          "data": {
            "text/plain": [
              "<matplotlib.axes._subplots.AxesSubplot at 0x7f52b98644e0>"
            ]
          },
          "metadata": {
            "tags": []
          },
          "execution_count": 18
        },
        {
          "output_type": "display_data",
          "data": {
            "image/png": "[encoded data removed]",
            "text/plain": [
              "<Figure size 432x288 with 2 Axes>"
            ]
          },
          "metadata": {
            "tags": []
          }
        }
      ]
    },
    {
      "cell_type": "code",
      "metadata": {
        "id": "LAwVtMSydftX",
        "colab_type": "code",
        "outputId": "9397a3fc-b693-44f0-ebd1-c2b44f537d6a",
        "colab": {
          "base_uri": "https://localhost:8080/",
          "height": 111
        }
      },
      "source": [
        "# zoom in to check the dependency \n",
        "# 'chocolate' and 'winpercent' are correlated\n",
        "inf[['chocolate','winpercent']].corr()"
      ],
      "execution_count": 0,
      "outputs": [
        {
          "output_type": "execute_result",
          "data": {
            "text/html": [
              "<div>\n",
              "<style scoped>\n",
              "    .dataframe tbody tr th:only-of-type {\n",
              "        vertical-align: middle;\n",
              "    }\n",
              "\n",
              "    .dataframe tbody tr th {\n",
              "        vertical-align: top;\n",
              "    }\n",
              "\n",
              "    .dataframe thead th {\n",
              "        text-align: right;\n",
              "    }\n",
              "</style>\n",
              "<table border=\"1\" class=\"dataframe\">\n",
              "  <thead>\n",
              "    <tr style=\"text-align: right;\">\n",
              "      <th></th>\n",
              "      <th>chocolate</th>\n",
              "      <th>winpercent</th>\n",
              "    </tr>\n",
              "  </thead>\n",
              "  <tbody>\n",
              "    <tr>\n",
              "      <th>chocolate</th>\n",
              "      <td>1.000000</td>\n",
              "      <td>0.632373</td>\n",
              "    </tr>\n",
              "    <tr>\n",
              "      <th>winpercent</th>\n",
              "      <td>0.632373</td>\n",
              "      <td>1.000000</td>\n",
              "    </tr>\n",
              "  </tbody>\n",
              "</table>\n",
              "</div>"
            ],
            "text/plain": [
              "            chocolate  winpercent\n",
              "chocolate    1.000000    0.632373\n",
              "winpercent   0.632373    1.000000"
            ]
          },
          "metadata": {
            "tags": []
          },
          "execution_count": 19
        }
      ]
    },
    {
      "cell_type": "code",
      "metadata": {
        "id": "Sy5PJmwkx4aa",
        "colab_type": "code",
        "outputId": "1f586c93-f17e-49cc-9f2d-5b69abacada4",
        "colab": {
          "base_uri": "https://localhost:8080/",
          "height": 111
        }
      },
      "source": [
        "# zoom in to check the dependency \n",
        "# 'chocolate' and 'fruity' have high negative correlation\n",
        "inf[['chocolate','fruity']].corr()"
      ],
      "execution_count": 0,
      "outputs": [
        {
          "output_type": "execute_result",
          "data": {
            "text/html": [
              "<div>\n",
              "<style scoped>\n",
              "    .dataframe tbody tr th:only-of-type {\n",
              "        vertical-align: middle;\n",
              "    }\n",
              "\n",
              "    .dataframe tbody tr th {\n",
              "        vertical-align: top;\n",
              "    }\n",
              "\n",
              "    .dataframe thead th {\n",
              "        text-align: right;\n",
              "    }\n",
              "</style>\n",
              "<table border=\"1\" class=\"dataframe\">\n",
              "  <thead>\n",
              "    <tr style=\"text-align: right;\">\n",
              "      <th></th>\n",
              "      <th>chocolate</th>\n",
              "      <th>fruity</th>\n",
              "    </tr>\n",
              "  </thead>\n",
              "  <tbody>\n",
              "    <tr>\n",
              "      <th>chocolate</th>\n",
              "      <td>1.0000</td>\n",
              "      <td>-0.7755</td>\n",
              "    </tr>\n",
              "    <tr>\n",
              "      <th>fruity</th>\n",
              "      <td>-0.7755</td>\n",
              "      <td>1.0000</td>\n",
              "    </tr>\n",
              "  </tbody>\n",
              "</table>\n",
              "</div>"
            ],
            "text/plain": [
              "           chocolate  fruity\n",
              "chocolate     1.0000 -0.7755\n",
              "fruity       -0.7755  1.0000"
            ]
          },
          "metadata": {
            "tags": []
          },
          "execution_count": 20
        }
      ]
    },
    {
      "cell_type": "code",
      "metadata": {
        "id": "NO44mZSdHu_F",
        "colab_type": "code",
        "outputId": "a034743c-1575-466f-84d3-f8f66bae33c3",
        "colab": {
          "base_uri": "https://localhost:8080/",
          "height": 34
        }
      },
      "source": [
        "print('number of candies that contain chocolate and are fruity: ', inf[(inf.chocolate==1) & (inf.fruity==1)].shape[0])\n",
        "# variable 'chocolate' and 'fruity' are mutually exclusive"
      ],
      "execution_count": 0,
      "outputs": [
        {
          "output_type": "stream",
          "text": [
            "number of candies that contain chocolate and are fruity:  1\n"
          ],
          "name": "stdout"
        }
      ]
    },
    {
      "cell_type": "code",
      "metadata": {
        "id": "Xsx_OIZhW3in",
        "colab_type": "code",
        "outputId": "5c515334-efe9-4ba0-cf78-63a36d0ce8eb",
        "colab": {
          "base_uri": "https://localhost:8080/",
          "height": 142
        }
      },
      "source": [
        "# zoom in to check the dependency \n",
        "# 'chocolate' and 'bar' have some correlation\n",
        "inf[['chocolate','hard','bar']].corr()"
      ],
      "execution_count": 0,
      "outputs": [
        {
          "output_type": "execute_result",
          "data": {
            "text/html": [
              "<div>\n",
              "<style scoped>\n",
              "    .dataframe tbody tr th:only-of-type {\n",
              "        vertical-align: middle;\n",
              "    }\n",
              "\n",
              "    .dataframe tbody tr th {\n",
              "        vertical-align: top;\n",
              "    }\n",
              "\n",
              "    .dataframe thead th {\n",
              "        text-align: right;\n",
              "    }\n",
              "</style>\n",
              "<table border=\"1\" class=\"dataframe\">\n",
              "  <thead>\n",
              "    <tr style=\"text-align: right;\">\n",
              "      <th></th>\n",
              "      <th>chocolate</th>\n",
              "      <th>hard</th>\n",
              "      <th>bar</th>\n",
              "    </tr>\n",
              "  </thead>\n",
              "  <tbody>\n",
              "    <tr>\n",
              "      <th>chocolate</th>\n",
              "      <td>1.000000</td>\n",
              "      <td>-0.358230</td>\n",
              "      <td>0.593165</td>\n",
              "    </tr>\n",
              "    <tr>\n",
              "      <th>hard</th>\n",
              "      <td>-0.358230</td>\n",
              "      <td>1.000000</td>\n",
              "      <td>-0.273341</td>\n",
              "    </tr>\n",
              "    <tr>\n",
              "      <th>bar</th>\n",
              "      <td>0.593165</td>\n",
              "      <td>-0.273341</td>\n",
              "      <td>1.000000</td>\n",
              "    </tr>\n",
              "  </tbody>\n",
              "</table>\n",
              "</div>"
            ],
            "text/plain": [
              "           chocolate      hard       bar\n",
              "chocolate   1.000000 -0.358230  0.593165\n",
              "hard       -0.358230  1.000000 -0.273341\n",
              "bar         0.593165 -0.273341  1.000000"
            ]
          },
          "metadata": {
            "tags": []
          },
          "execution_count": 22
        }
      ]
    },
    {
      "cell_type": "code",
      "metadata": {
        "id": "humpiIBtX_xi",
        "colab_type": "code",
        "outputId": "5e83e4c4-7034-48c8-dfe3-45477f90ea88",
        "colab": {
          "base_uri": "https://localhost:8080/",
          "height": 34
        }
      },
      "source": [
        "print('number of candies that contain chocolate and are hard: ', inf[(inf.chocolate==1) & (inf.hard==1)].shape[0])\n",
        "# variable 'chocolate' and 'hard' are mutually excluded"
      ],
      "execution_count": 0,
      "outputs": [
        {
          "output_type": "stream",
          "text": [
            "number of candies that contain chocolate and are hard:  1\n"
          ],
          "name": "stdout"
        }
      ]
    },
    {
      "cell_type": "code",
      "metadata": {
        "id": "f20PA2I9TgqV",
        "colab_type": "code",
        "colab": {}
      },
      "source": [
        "#df_choco = inf[inf.chocolate==1]\n",
        "#df_choco.drop(['chocolate','fruity','hard'], axis=1, inplace=True)"
      ],
      "execution_count": 0,
      "outputs": []
    },
    {
      "cell_type": "code",
      "metadata": {
        "id": "vB0rhm0tyFh6",
        "colab_type": "code",
        "outputId": "682582a4-302e-4f08-9094-5eff3f4248d9",
        "colab": {
          "base_uri": "https://localhost:8080/",
          "height": 111
        }
      },
      "source": [
        "# zoom in to check the dependency \n",
        "# 'bar' and 'pluribus' have some negative correlation\n",
        "inf[['bar','pluribus']].corr()"
      ],
      "execution_count": 0,
      "outputs": [
        {
          "output_type": "execute_result",
          "data": {
            "text/html": [
              "<div>\n",
              "<style scoped>\n",
              "    .dataframe tbody tr th:only-of-type {\n",
              "        vertical-align: middle;\n",
              "    }\n",
              "\n",
              "    .dataframe tbody tr th {\n",
              "        vertical-align: top;\n",
              "    }\n",
              "\n",
              "    .dataframe thead th {\n",
              "        text-align: right;\n",
              "    }\n",
              "</style>\n",
              "<table border=\"1\" class=\"dataframe\">\n",
              "  <thead>\n",
              "    <tr style=\"text-align: right;\">\n",
              "      <th></th>\n",
              "      <th>bar</th>\n",
              "      <th>pluribus</th>\n",
              "    </tr>\n",
              "  </thead>\n",
              "  <tbody>\n",
              "    <tr>\n",
              "      <th>bar</th>\n",
              "      <td>1.00000</td>\n",
              "      <td>-0.61817</td>\n",
              "    </tr>\n",
              "    <tr>\n",
              "      <th>pluribus</th>\n",
              "      <td>-0.61817</td>\n",
              "      <td>1.00000</td>\n",
              "    </tr>\n",
              "  </tbody>\n",
              "</table>\n",
              "</div>"
            ],
            "text/plain": [
              "              bar  pluribus\n",
              "bar       1.00000  -0.61817\n",
              "pluribus -0.61817   1.00000"
            ]
          },
          "metadata": {
            "tags": []
          },
          "execution_count": 25
        }
      ]
    },
    {
      "cell_type": "code",
      "metadata": {
        "id": "l26MM3ityLuB",
        "colab_type": "code",
        "outputId": "a11b1baf-90a1-4ba2-f61d-cbd11e19da8d",
        "colab": {
          "base_uri": "https://localhost:8080/",
          "height": 394
        }
      },
      "source": [
        "# zoom in to check the dependency \n",
        "sugar_price_win_corr = inf[['sugarpercent','pricepercent','winpercent']].corr()\n",
        "sb.heatmap(sugar_price_win_corr)\n",
        "sugar_price_win_corr"
      ],
      "execution_count": 0,
      "outputs": [
        {
          "output_type": "execute_result",
          "data": {
            "text/html": [
              "<div>\n",
              "<style scoped>\n",
              "    .dataframe tbody tr th:only-of-type {\n",
              "        vertical-align: middle;\n",
              "    }\n",
              "\n",
              "    .dataframe tbody tr th {\n",
              "        vertical-align: top;\n",
              "    }\n",
              "\n",
              "    .dataframe thead th {\n",
              "        text-align: right;\n",
              "    }\n",
              "</style>\n",
              "<table border=\"1\" class=\"dataframe\">\n",
              "  <thead>\n",
              "    <tr style=\"text-align: right;\">\n",
              "      <th></th>\n",
              "      <th>sugarpercent</th>\n",
              "      <th>pricepercent</th>\n",
              "      <th>winpercent</th>\n",
              "    </tr>\n",
              "  </thead>\n",
              "  <tbody>\n",
              "    <tr>\n",
              "      <th>sugarpercent</th>\n",
              "      <td>1.000000</td>\n",
              "      <td>0.321587</td>\n",
              "      <td>0.207635</td>\n",
              "    </tr>\n",
              "    <tr>\n",
              "      <th>pricepercent</th>\n",
              "      <td>0.321587</td>\n",
              "      <td>1.000000</td>\n",
              "      <td>0.333861</td>\n",
              "    </tr>\n",
              "    <tr>\n",
              "      <th>winpercent</th>\n",
              "      <td>0.207635</td>\n",
              "      <td>0.333861</td>\n",
              "      <td>1.000000</td>\n",
              "    </tr>\n",
              "  </tbody>\n",
              "</table>\n",
              "</div>"
            ],
            "text/plain": [
              "              sugarpercent  pricepercent  winpercent\n",
              "sugarpercent      1.000000      0.321587    0.207635\n",
              "pricepercent      0.321587      1.000000    0.333861\n",
              "winpercent        0.207635      0.333861    1.000000"
            ]
          },
          "metadata": {
            "tags": []
          },
          "execution_count": 26
        },
        {
          "output_type": "display_data",
          "data": {
            "image/png": "[encoded data removed]",
            "text/plain": [
              "<Figure size 432x288 with 2 Axes>"
            ]
          },
          "metadata": {
            "tags": []
          }
        }
      ]
    },
    {
      "cell_type": "code",
      "metadata": {
        "id": "CC-V07WSlo-k",
        "colab_type": "code",
        "outputId": "da74961f-473d-40c6-ca0c-dab2421d0da7",
        "colab": {
          "base_uri": "https://localhost:8080/",
          "height": 296
        }
      },
      "source": [
        "plt.scatter(inf.sugarpercent, inf.winpercent)\n",
        "plt.xlabel('sugar percent')\n",
        "plt.ylabel('winpercent')\n",
        "\n",
        "# some candies share the same sugar content"
      ],
      "execution_count": 0,
      "outputs": [
        {
          "output_type": "execute_result",
          "data": {
            "text/plain": [
              "Text(0, 0.5, 'winpercent')"
            ]
          },
          "metadata": {
            "tags": []
          },
          "execution_count": 27
        },
        {
          "output_type": "display_data",
          "data": {
            "image/png": "[encoded data removed]",
            "text/plain": [
              "<Figure size 432x288 with 1 Axes>"
            ]
          },
          "metadata": {
            "tags": []
          }
        }
      ]
    },
    {
      "cell_type": "code",
      "metadata": {
        "id": "zYWktBQklpHJ",
        "colab_type": "code",
        "outputId": "05f63ffb-ce0e-4acd-84fd-b85e4fca3219",
        "colab": {
          "base_uri": "https://localhost:8080/",
          "height": 296
        }
      },
      "source": [
        "plt.scatter(inf.pricepercent, inf.winpercent)\n",
        "plt.xlabel('price percent')\n",
        "plt.ylabel('winpercent')\n",
        "\n",
        "# some candies share the same price"
      ],
      "execution_count": 0,
      "outputs": [
        {
          "output_type": "execute_result",
          "data": {
            "text/plain": [
              "Text(0, 0.5, 'winpercent')"
            ]
          },
          "metadata": {
            "tags": []
          },
          "execution_count": 28
        },
        {
          "output_type": "display_data",
          "data": {
            "image/png": "[encoded data removed]",
            "text/plain": [
              "<Figure size 432x288 with 1 Axes>"
            ]
          },
          "metadata": {
            "tags": []
          }
        }
      ]
    },
    {
      "cell_type": "code",
      "metadata": {
        "id": "mnmC5XLuqNAE",
        "colab_type": "code",
        "colab": {}
      },
      "source": [
        ""
      ],
      "execution_count": 0,
      "outputs": []
    },
    {
      "cell_type": "code",
      "metadata": {
        "id": "_arHP16ELzts",
        "colab_type": "code",
        "outputId": "b484d5c9-bdc8-4d6c-c591-20ecccbbef1f",
        "colab": {
          "base_uri": "https://localhost:8080/",
          "height": 287
        }
      },
      "source": [
        "# check the average winpercent of the candies, wich have a certain feature\n",
        "mean_win_share = []\n",
        "for key in ingredients:\n",
        "    mean_win_share.append(inf[inf[key] == 1].winpercent.mean())\n",
        "\n",
        "df_mean_win_share = pd.DataFrame({'ingredient': ingredients, 'mean_win_share': mean_win_share})\n",
        "df_mean_win_share = df_mean_win_share.sort_values('mean_win_share', ascending=False)\n",
        "\n",
        "\n",
        "plt.bar(df_mean_win_share.ingredient, df_mean_win_share.mean_win_share, width=0.3)\n",
        "plt.hlines(y=50, xmin=-0.2, xmax=8.2, label='50%')\n",
        "plt.xlabel('ingredients',fontsize=16)\n",
        "plt.ylabel('mean win share',fontsize=16)\n",
        "plt.xticks(fontsize=12)\n",
        "plt.legend()\n",
        "\n",
        "fig = plt.gcf()\n",
        "fig.set_size_inches(20,4)\n",
        "plt.show()"
      ],
      "execution_count": 0,
      "outputs": [
        {
          "output_type": "display_data",
          "data": {
            "image/png": "[encoded data removed]",
            "text/plain": [
              "<Figure size 1440x288 with 1 Axes>"
            ]
          },
          "metadata": {
            "tags": []
          }
        }
      ]
    },
    {
      "cell_type": "code",
      "metadata": {
        "id": "gOMs05oDsJDP",
        "colab_type": "code",
        "outputId": "b7fc0215-d5fd-4308-e730-de7d4e593242",
        "colab": {
          "base_uri": "https://localhost:8080/",
          "height": 1000
        }
      },
      "source": [
        "# plot the feature distributions\n",
        "for key in inf.columns:\n",
        "    if key in ['competitorname']:\n",
        "        continue\n",
        "    if key in ['sugarpercent', 'pricepercent']:\n",
        "        Bins = 10\n",
        "    elif key == 'winpercent':\n",
        "        Bins = 20    \n",
        "    else:\n",
        "        Bins = 2\n",
        "    plt.hist(inf[key], bins=Bins)\n",
        "    plt.xlabel(key, fontsize=16)\n",
        "    plt.ylabel('Counts',fontsize=16)\n",
        "    plt.show()\n",
        "    plt.close()\n",
        "\n",
        "# one needs to be more careful about a feature with unbalanced distribution "
      ],
      "execution_count": 0,
      "outputs": [
        {
          "output_type": "display_data",
          "data": {
            "image/png": "[encoded data removed]",
            "text/plain": [
              "<Figure size 432x288 with 1 Axes>"
            ]
          },
          "metadata": {
            "tags": []
          }
        },
        {
          "output_type": "display_data",
          "data": {
            "image/png": "[encoded data removed]",
            "text/plain": [
              "<Figure size 432x288 with 1 Axes>"
            ]
          },
          "metadata": {
            "tags": []
          }
        },
        {
          "output_type": "display_data",
          "data": {
            "image/png": "[encoded data removed]",
            "text/plain": [
              "<Figure size 432x288 with 1 Axes>"
            ]
          },
          "metadata": {
            "tags": []
          }
        },
        {
          "output_type": "display_data",
          "data": {
            "image/png": "[encoded data removed]",
            "text/plain": [
              "<Figure size 432x288 with 1 Axes>"
            ]
          },
          "metadata": {
            "tags": []
          }
        },
        {
          "output_type": "display_data",
          "data": {
            "image/png": "[encoded data removed]",
            "text/plain": [
              "<Figure size 432x288 with 1 Axes>"
            ]
          },
          "metadata": {
            "tags": []
          }
        },
        {
          "output_type": "display_data",
          "data": {
            "image/png": "[encoded data removed]",
            "text/plain": [
              "<Figure size 432x288 with 1 Axes>"
            ]
          },
          "metadata": {
            "tags": []
          }
        },
        {
          "output_type": "display_data",
          "data": {
            "image/png": "[encoded data removed]",
            "text/plain": [
              "<Figure size 432x288 with 1 Axes>"
            ]
          },
          "metadata": {
            "tags": []
          }
        },
        {
          "output_type": "display_data",
          "data": {
            "image/png": "[encoded data removed]",
            "text/plain": [
              "<Figure size 432x288 with 1 Axes>"
            ]
          },
          "metadata": {
            "tags": []
          }
        },
        {
          "output_type": "display_data",
          "data": {
            "image/png": "[encoded data removed]",
            "text/plain": [
              "<Figure size 432x288 with 1 Axes>"
            ]
          },
          "metadata": {
            "tags": []
          }
        },
        {
          "output_type": "display_data",
          "data": {
            "image/png": "[encoded data removed]",
            "text/plain": [
              "<Figure size 432x288 with 1 Axes>"
            ]
          },
          "metadata": {
            "tags": []
          }
        },
        {
          "output_type": "display_data",
          "data": {
            "image/png": "[encoded data removed]",
            "text/plain": [
              "<Figure size 432x288 with 1 Axes>"
            ]
          },
          "metadata": {
            "tags": []
          }
        },
        {
          "output_type": "display_data",
          "data": {
            "image/png": "[encoded data removed]",
            "text/plain": [
              "<Figure size 432x288 with 1 Axes>"
            ]
          },
          "metadata": {
            "tags": []
          }
        }
      ]
    },
    {
      "cell_type": "code",
      "metadata": {
        "id": "yAUKilkhsS7s",
        "colab_type": "code",
        "colab": {}
      },
      "source": [
        ""
      ],
      "execution_count": 0,
      "outputs": []
    },
    {
      "cell_type": "code",
      "metadata": {
        "id": "i9XTK3vECmaC",
        "colab_type": "code",
        "outputId": "e7dce01b-46ac-4a39-eb1b-cf5f189f8cb4",
        "colab": {
          "base_uri": "https://localhost:8080/",
          "height": 812
        }
      },
      "source": [
        "# KS-test: \n",
        "# null hypothesis: the compared two distributions are identical\n",
        "\n",
        "for i in ['sugar', 'price', 'win']:\n",
        "\n",
        "    data_i = inf[i+'percent']\n",
        "\n",
        "    if i == 'win':\n",
        "        offset = 300\n",
        "        Bins = 20\n",
        "    else:\n",
        "        offset = 8\n",
        "        Bins = 12 #np.arange(data_i.min(), data_i.max()+0.2, 0.2)\n",
        "    \n",
        "    loc_i, scale_i = norm.fit(data_i)\n",
        "    n_i = norm(loc=loc_i, scale=scale_i)\n",
        "\n",
        "    plt.hist(data_i, bins=Bins, rwidth=0.5)\n",
        "    x_i = np.arange(data_i.min(), data_i.max()+0.2, 0.2)\n",
        "    y_i = offset * n_i.pdf(x_i)\n",
        "    plt.plot(x_i, y_i)\n",
        "    plt.show()\n",
        "\n",
        "    print(\"p-value for KS-test(normal distribution) of '\" + i + \"percent': \", kstest(data_i, n_i.cdf).pvalue)\n",
        "\n",
        "# the hypothesis that 'sugarpercent' is normal distributed can not be rejected according to the KS-test\n",
        "# the hypothesis that 'pricepercent' is normal distributed can not be rejected according to the KS-test\n",
        "# the hypothesis that 'winpercent' is normal distributed can not be rejected according to the KS-test"
      ],
      "execution_count": 0,
      "outputs": [
        {
          "output_type": "display_data",
          "data": {
            "image/png": "[encoded data removed]",
            "text/plain": [
              "<Figure size 432x288 with 1 Axes>"
            ]
          },
          "metadata": {
            "tags": []
          }
        },
        {
          "output_type": "stream",
          "text": [
            "p-value for KS-test(normal distribution) of 'sugarpercent':  0.1333627469338972\n"
          ],
          "name": "stdout"
        },
        {
          "output_type": "display_data",
          "data": {
            "image/png": "[encoded data removed]",
            "text/plain": [
              "<Figure size 432x288 with 1 Axes>"
            ]
          },
          "metadata": {
            "tags": []
          }
        },
        {
          "output_type": "stream",
          "text": [
            "p-value for KS-test(normal distribution) of 'pricepercent':  0.10276847593359534\n"
          ],
          "name": "stdout"
        },
        {
          "output_type": "display_data",
          "data": {
            "image/png": "[encoded data removed]",
            "text/plain": [
              "<Figure size 432x288 with 1 Axes>"
            ]
          },
          "metadata": {
            "tags": []
          }
        },
        {
          "output_type": "stream",
          "text": [
            "p-value for KS-test(normal distribution) of 'winpercent':  0.6387823087164539\n"
          ],
          "name": "stdout"
        }
      ]
    },
    {
      "cell_type": "code",
      "metadata": {
        "id": "vSupnO-g8anb",
        "colab_type": "code",
        "colab": {}
      },
      "source": [
        ""
      ],
      "execution_count": 0,
      "outputs": []
    },
    {
      "cell_type": "code",
      "metadata": {
        "id": "3hwob851ym9x",
        "colab_type": "code",
        "outputId": "0c58676b-2982-4eb9-cb54-94e557c3e1cb",
        "colab": {
          "base_uri": "https://localhost:8080/",
          "height": 119
        }
      },
      "source": [
        "# check multicolinearities\n",
        "\n",
        "T_critical = 0.1\n",
        "\n",
        "for pair in [['chocolate','fruity'], ['bar','pluribus'], ['chocolate','hard']]:\n",
        "    print(pair[0], 'vs. ', pair[1])\n",
        "    X = sm.add_constant(inf[pair[0]])\n",
        "    Y = inf[pair[1]]\n",
        "    ols_model = sm.OLS(Y, X)\n",
        "    ols_result = ols_model.fit()\n",
        "    T_pair = 1 - np.round(ols_result.rsquared, decimals=3)\n",
        "    critical = T_pair < T_critical\n",
        "    print('Tolerance T: ', T_pair, ' < ' if critical else ' > ', T_critical, ', indicating', '' if critical else ' tolerable', \" multicolinearity between '\", pair[0],\"' and '\", pair[1],\"'\")\n",
        "\n"
      ],
      "execution_count": 0,
      "outputs": [
        {
          "output_type": "stream",
          "text": [
            "chocolate vs.  fruity\n",
            "Tolerance T:  0.399  >  0.1 , indicating  tolerable  multicolinearity between ' chocolate ' and ' fruity '\n",
            "bar vs.  pluribus\n",
            "Tolerance T:  0.618  >  0.1 , indicating  tolerable  multicolinearity between ' bar ' and ' pluribus '\n",
            "chocolate vs.  hard\n",
            "Tolerance T:  0.872  >  0.1 , indicating  tolerable  multicolinearity between ' chocolate ' and ' hard '\n"
          ],
          "name": "stdout"
        }
      ]
    },
    {
      "cell_type": "code",
      "metadata": {
        "id": "0b7YOJ_wh7Km",
        "colab_type": "code",
        "colab": {}
      },
      "source": [
        ""
      ],
      "execution_count": 0,
      "outputs": []
    },
    {
      "cell_type": "code",
      "metadata": {
        "id": "fZNQASm0G5Ae",
        "colab_type": "code",
        "outputId": "77a630d3-e4cd-4567-9fc1-b7ec0dd071ec",
        "colab": {
          "base_uri": "https://localhost:8080/",
          "height": 340
        }
      },
      "source": [
        "print(\"p-value for KS-test(normal distribution) of 'winpercent':\")\n",
        "for key in ingredients:\n",
        "    for j in [0,1]:\n",
        "        data_i = inf[inf[key]==j].winpercent\n",
        "        \n",
        "        loc_i, scale_i = norm.fit(data_i)\n",
        "        n_i = norm(loc=loc_i, scale=scale_i)\n",
        "        print(key, \" = \"+str(j)+\": \", kstest(data_i, n_i.cdf).pvalue)"
      ],
      "execution_count": 0,
      "outputs": [
        {
          "output_type": "stream",
          "text": [
            "p-value for KS-test(normal distribution) of 'winpercent':\n",
            "chocolate  = 0:  0.9492148247405449\n",
            "chocolate  = 1:  0.9710361135906722\n",
            "fruity  = 0:  0.8820711287186673\n",
            "fruity  = 1:  0.9920659537814703\n",
            "caramel  = 0:  0.7964820383704407\n",
            "caramel  = 1:  0.8845437853200384\n",
            "peanutyalmondy  = 0:  0.53264181458472\n",
            "peanutyalmondy  = 1:  0.481788824853246\n",
            "nougat  = 0:  0.6502447525555118\n",
            "nougat  = 1:  0.9972661626655505\n",
            "crispedricewafer  = 0:  0.6070005976392068\n",
            "crispedricewafer  = 1:  0.9744311620240984\n",
            "hard  = 0:  0.9848385969621437\n",
            "hard  = 1:  0.9014602129763439\n",
            "bar  = 0:  0.4274752497279446\n",
            "bar  = 1:  0.9991128292721562\n",
            "pluribus  = 0:  0.9163626707444353\n",
            "pluribus  = 1:  0.9394248652280194\n"
          ],
          "name": "stdout"
        }
      ]
    },
    {
      "cell_type": "code",
      "metadata": {
        "id": "sVLOWEK_9O4O",
        "colab_type": "code",
        "colab": {}
      },
      "source": [
        "# all the p-values are larger than 0.05, which means\n",
        "# the hypothesis that 'winpercent' is normal distributed for each of the above cases can not be rejected according to the KS-test"
      ],
      "execution_count": 0,
      "outputs": []
    },
    {
      "cell_type": "code",
      "metadata": {
        "id": "DkOvyq7j9O0c",
        "colab_type": "code",
        "colab": {}
      },
      "source": [
        ""
      ],
      "execution_count": 0,
      "outputs": []
    },
    {
      "cell_type": "code",
      "metadata": {
        "id": "cjqDRyimzG-u",
        "colab_type": "code",
        "outputId": "eb274bd2-b817-49c4-9fd3-df0224fe29ed",
        "colab": {
          "base_uri": "https://localhost:8080/",
          "height": 265
        }
      },
      "source": [
        "p_vals = []\n",
        "\n",
        "for key in ingredients:\n",
        "    tA = inf[inf[key] == 0].winpercent\n",
        "    tB = inf[inf[key] == 1].winpercent\n",
        "    p_vals.append(sp.stats.ttest_ind(tA, tB, equal_var=False).pvalue)\n",
        "\n",
        "plt.bar(x=ingredients, height=p_vals, width=0.3)\n",
        "plt.hlines(y=0.05, xmin=-0.2, xmax=len(ingredients)-0.7, label='p-value = 0.05')\n",
        "plt.yscale('log')\n",
        "plt.ylabel('p-value')\n",
        "plt.legend(loc='lower right')\n",
        "\n",
        "fig = plt.gcf()\n",
        "fig.set_size_inches(14,4)\n",
        "plt.show()\n",
        "\n",
        "# variable 'caramel' and 'nougat' can be discarded in a linear model, since whether a candy has these features has limited effect on the 'winpercent'"
      ],
      "execution_count": 0,
      "outputs": [
        {
          "output_type": "display_data",
          "data": {
            "image/png": "[encoded data removed]",
            "text/plain": [
              "<Figure size 1008x288 with 1 Axes>"
            ]
          },
          "metadata": {
            "tags": []
          }
        }
      ]
    },
    {
      "cell_type": "code",
      "metadata": {
        "id": "GlZyV79jzHE7",
        "colab_type": "code",
        "colab": {}
      },
      "source": [
        ""
      ],
      "execution_count": 0,
      "outputs": []
    },
    {
      "cell_type": "code",
      "metadata": {
        "id": "pm36Cc-IzIZF",
        "colab_type": "code",
        "colab": {}
      },
      "source": [
        ""
      ],
      "execution_count": 0,
      "outputs": []
    },
    {
      "cell_type": "code",
      "metadata": {
        "id": "f3RmKXJirs7i",
        "colab_type": "code",
        "colab": {}
      },
      "source": [
        "X_linear = inf.drop(['competitorname','winpercent']+['caramel','nougat'], axis=1) #['sugarpercent','pricepercent']\n",
        "y_linear = inf.winpercent"
      ],
      "execution_count": 0,
      "outputs": []
    },
    {
      "cell_type": "code",
      "metadata": {
        "id": "-v3sxdoGKFSt",
        "colab_type": "code",
        "colab": {}
      },
      "source": [
        ""
      ],
      "execution_count": 0,
      "outputs": []
    },
    {
      "cell_type": "code",
      "metadata": {
        "id": "Bzwq77BHjN7f",
        "colab_type": "code",
        "colab": {}
      },
      "source": [
        ""
      ],
      "execution_count": 0,
      "outputs": []
    },
    {
      "cell_type": "code",
      "metadata": {
        "id": "aYnbtlFFkmYF",
        "colab_type": "code",
        "outputId": "b1bc5a27-c983-4500-d2c8-ec174a7675d0",
        "colab": {
          "base_uri": "https://localhost:8080/",
          "height": 578
        }
      },
      "source": [
        "# linear model\n",
        "X = sm.add_constant(X_linear)\n",
        "Y = y_linear\n",
        "ols_model = sm.OLS(Y, X)\n",
        "ols_result = ols_model.fit()\n",
        "print(ols_result.summary())\n",
        "\n",
        "# the dependencies from variable 'crispedricewafer', 'hard', 'bar', 'pluribus' and 'pricepercent' are not significant"
      ],
      "execution_count": 0,
      "outputs": [
        {
          "output_type": "stream",
          "text": [
            "                            OLS Regression Results                            \n",
            "==============================================================================\n",
            "Dep. Variable:             winpercent   R-squared:                       0.541\n",
            "Model:                            OLS   Adj. R-squared:                  0.485\n",
            "Method:                 Least Squares   F-statistic:                     9.576\n",
            "Date:                Mon, 17 Feb 2020   Prob (F-statistic):           1.73e-09\n",
            "Time:                        00:59:26   Log-Likelihood:                -308.28\n",
            "No. Observations:                  83   AIC:                             636.6\n",
            "Df Residuals:                      73   BIC:                             660.8\n",
            "Df Model:                           9                                         \n",
            "Covariance Type:            nonrobust                                         \n",
            "====================================================================================\n",
            "                       coef    std err          t      P>|t|      [0.025      0.975]\n",
            "------------------------------------------------------------------------------------\n",
            "const               32.9395      4.869      6.765      0.000      23.235      42.644\n",
            "chocolate           20.7567      4.041      5.137      0.000      12.703      28.810\n",
            "fruity              10.1429      3.885      2.611      0.011       2.401      17.885\n",
            "peanutyalmondy      10.3382      3.568      2.898      0.005       3.228      17.448\n",
            "crispedricewafer     8.9513      4.783      1.872      0.065      -0.581      18.483\n",
            "hard                -6.0200      3.428     -1.756      0.083     -12.851       0.811\n",
            "bar                  2.0520      4.367      0.470      0.640      -6.651      10.755\n",
            "pluribus            -0.2446      3.103     -0.079      0.937      -6.428       5.939\n",
            "sugarpercent        10.9463      4.561      2.400      0.019       1.857      20.036\n",
            "pricepercent        -7.2242      5.432     -1.330      0.188     -18.049       3.601\n",
            "==============================================================================\n",
            "Omnibus:                        0.636   Durbin-Watson:                   1.754\n",
            "Prob(Omnibus):                  0.728   Jarque-Bera (JB):                0.731\n",
            "Skew:                          -0.060   Prob(JB):                        0.694\n",
            "Kurtosis:                       2.556   Cond. No.                         8.82\n",
            "==============================================================================\n",
            "\n",
            "Warnings:\n",
            "[1] Standard Errors assume that the covariance matrix of the errors is correctly specified.\n"
          ],
          "name": "stdout"
        }
      ]
    },
    {
      "cell_type": "code",
      "metadata": {
        "id": "6ecg-kuYkmh2",
        "colab_type": "code",
        "outputId": "0e5d12ec-184e-4e9e-ec4f-d5b6be088bd0",
        "colab": {
          "base_uri": "https://localhost:8080/",
          "height": 296
        }
      },
      "source": [
        "# residuals scatter plot\n",
        "resid = ols_result.resid\n",
        "pred_winpercent = ols_result.fittedvalues\n",
        "pred_winpercent\n",
        "plt.scatter(pred_winpercent, resid)\n",
        "plt.hlines(y=0, xmin=25, xmax=80)\n",
        "plt.ylabel('residuals')\n",
        "plt.xlabel('predicted winpercent')"
      ],
      "execution_count": 0,
      "outputs": [
        {
          "output_type": "execute_result",
          "data": {
            "text/plain": [
              "Text(0.5, 0, 'predicted winpercent')"
            ]
          },
          "metadata": {
            "tags": []
          },
          "execution_count": 37
        },
        {
          "output_type": "display_data",
          "data": {
            "image/png": "[encoded data removed]",
            "text/plain": [
              "<Figure size 432x288 with 1 Axes>"
            ]
          },
          "metadata": {
            "tags": []
          }
        }
      ]
    },
    {
      "cell_type": "code",
      "metadata": {
        "id": "cWNY8H0StFxA",
        "colab_type": "code",
        "colab": {}
      },
      "source": [
        "# what features should our new candy has?\n",
        "# suggestions from the linear model:\n",
        "# chocolate: yes\n",
        "# fruity: yes\n",
        "# peanutyalmondy: yes\n",
        "# sugar content: should be just higher than the sugar content of all the 83 candies \n",
        "# others: one can follow what the coefficients from the linear model suggest (as long as the expense allows)\n",
        "# , but they have limited effects \n",
        "\n",
        "\n",
        "# note that no candies with feature 'chocolate' has feaure 'fruity' (with only one exception) \n",
        "# and the average 'winpercent' for 'fruity' candies is below 50%\n",
        "# so 'fruity' is not suggested if 'chocolate' is presented\n",
        "\n",
        "# final suggestions:\n",
        "# since price seems not to affect winpercent too much, we can allow features, which have little positive effect on winpercent \n",
        "# chocolate: yes\n",
        "# fruity: no\n",
        "# caramel: yes (since candies with caramel have above 50% mean win share, but has limited effect)\n",
        "# peanutyalmondy: yes\n",
        "# nougat: yes (since candies with nougat have above 50% mean win share, but has limited effect)\n",
        "# crispedricewafer: yes\n",
        "# hard: no (since chocolate and hard are mutually exclusive)\n",
        "# bar: yes\n",
        "# pluribus: no\n",
        "# sugar content: should be just higher than the sugar content of all the 83 candies "
      ],
      "execution_count": 0,
      "outputs": []
    },
    {
      "cell_type": "code",
      "metadata": {
        "id": "z2SDs0dN0pD5",
        "colab_type": "code",
        "colab": {}
      },
      "source": [
        "# can the regression be improved by non-linear models?\n",
        "# (not by much)"
      ],
      "execution_count": 0,
      "outputs": []
    },
    {
      "cell_type": "code",
      "metadata": {
        "id": "EfU8PJcUqH-K",
        "colab_type": "code",
        "colab": {}
      },
      "source": [
        "# this dataframe contains less features \n",
        "X_linear1 = X_linear.drop(['crispedricewafer','hard','bar','pluribus','pricepercent'], axis=1)"
      ],
      "execution_count": 0,
      "outputs": []
    },
    {
      "cell_type": "code",
      "metadata": {
        "id": "EFuBCLr2KFJz",
        "colab_type": "code",
        "outputId": "efd8fa43-ef53-492c-eca1-e48f2b003ebb",
        "colab": {
          "base_uri": "https://localhost:8080/",
          "height": 54
        }
      },
      "source": [
        "\"\"\"\n",
        "# linear model\n",
        "X1 = sm.add_constant(X_linear1)\n",
        "Y = y_linear\n",
        "ols_model1 = sm.OLS(Y, X1)\n",
        "ols_result1 = ols_model1.fit()\n",
        "print(ols_result1.summary())\n",
        "\"\"\"\n",
        "\n",
        "\"\"\"\n",
        "linear_model = LR()\n",
        "linear_model.fit(X_linear1, y_linear)\n",
        "\n",
        "R_2 = linear_model.score(X_linear1, y_linear)\n",
        "print('R squared of the fit: ', R_2)\n",
        "\n",
        "\n",
        "df_coef = pd.DataFrame({'features': X_linear1.columns, 'coef': linear_model.coef_})\n",
        "print(df_coef.sort_values('coef', ascending=False))\n",
        "\n",
        "\n",
        "# best candy configuration according to the model:\n",
        "hyp_candy_1 = (linear_model.coef_ > 0).astype(int)\n",
        "print('predicted winpercent: ', round(list(linear_model.predict([hyp_candy_1]))[0]))\n",
        "\"\"\""
      ],
      "execution_count": 0,
      "outputs": [
        {
          "output_type": "execute_result",
          "data": {
            "text/plain": [
              "\"\\nlinear_model = LR()\\nlinear_model.fit(X_linear1, y_linear)\\n\\nR_2 = linear_model.score(X_linear1, y_linear)\\nprint('R squared of the fit: ', R_2)\\n\\n\\ndf_coef = pd.DataFrame({'features': X_linear1.columns, 'coef': linear_model.coef_})\\nprint(df_coef.sort_values('coef', ascending=False))\\n\\n\\n# best candy configuration according to the model:\\nhyp_candy_1 = (linear_model.coef_ > 0).astype(int)\\nprint('predicted winpercent: ', round(list(linear_model.predict([hyp_candy_1]))[0]))\\n\""
            ]
          },
          "metadata": {
            "tags": []
          },
          "execution_count": 12
        }
      ]
    },
    {
      "cell_type": "code",
      "metadata": {
        "id": "mR3C7TZUtF3B",
        "colab_type": "code",
        "colab": {}
      },
      "source": [
        ""
      ],
      "execution_count": 0,
      "outputs": []
    },
    {
      "cell_type": "code",
      "metadata": {
        "id": "jTBmLSMtw8GP",
        "colab_type": "code",
        "colab": {}
      },
      "source": [
        ""
      ],
      "execution_count": 0,
      "outputs": []
    },
    {
      "cell_type": "code",
      "metadata": {
        "id": "QP7zn9tMEXWI",
        "colab_type": "code",
        "colab": {}
      },
      "source": [
        "seed = 0\n",
        "n_folds = 10"
      ],
      "execution_count": 0,
      "outputs": []
    },
    {
      "cell_type": "code",
      "metadata": {
        "id": "V4pz6iXuUGI2",
        "colab_type": "code",
        "colab": {}
      },
      "source": [
        "# turn DataFrames into numpy arrays\n",
        "X_l = X_nl = np.array(X_linear)\n",
        "X_l1 = X_nl1 = np.array(X_linear1)\n",
        "\n",
        "y_l = y_nl = np.array(y_linear)"
      ],
      "execution_count": 0,
      "outputs": []
    },
    {
      "cell_type": "code",
      "metadata": {
        "id": "qj_Q0XFPHzVt",
        "colab_type": "code",
        "colab": {}
      },
      "source": [
        ""
      ],
      "execution_count": 0,
      "outputs": []
    },
    {
      "cell_type": "code",
      "metadata": {
        "id": "NKpUnXK6Hze9",
        "colab_type": "code",
        "colab": {}
      },
      "source": [
        ""
      ],
      "execution_count": 0,
      "outputs": []
    },
    {
      "cell_type": "code",
      "metadata": {
        "id": "ZCCm0NopEXeP",
        "colab_type": "code",
        "colab": {}
      },
      "source": [
        "# compute cross validation score\n",
        "def run_CV_0(model, data, labels, model_name, params):\n",
        "    cv_scores = []\n",
        "    k_folds = KFold(n_splits=n_folds, shuffle=True, random_state=seed)\n",
        "    n_feats = data.shape[1]\n",
        "\n",
        "    for i_trn, i_tst in k_folds.split(labels):\n",
        "        i_model = model(params)\n",
        "        #i_model.fit(data[i_trn], labels[i_trn])\n",
        "        #i_model.compile(optimizer='adam', loss='MSE')\n",
        "        i_score = fit_eval_skl(i_model, data[i_trn], labels[i_trn], data[i_tst], labels[i_tst])\n",
        "        cv_scores.append(i_score) \n",
        "\n",
        "    mn_score = np.mean(cv_scores)\n",
        "    std_score = np.std(cv_scores)\n",
        "    print(n_folds, 'fold cross validation score for model \"', model_name, '\": %.2f +- %.2f' % (mn_score, std_score))\n",
        "    return mn_score #cv_scores\n",
        "\n",
        "\n",
        "# varies models\n",
        "# linear regression\n",
        "def model_lr(params): # 10 fold cv mse = 127.69 +- 39.35\n",
        "    model =  LR()\n",
        "    return model\n",
        "\n",
        "# ridge regression\n",
        "def model_ridge(params):\n",
        "    model = Ridge(alpha=2)\n",
        "    return model\n",
        "\n",
        "#lasso regression\n",
        "def model_lasso(params):\n",
        "    model = Lasso(alpha=0.2)\n",
        "    return model\n",
        "\n",
        "# random forest regression\n",
        "def model_rfr(params): \n",
        "    model = RFR(\n",
        "        criterion='mse',\n",
        "        n_estimators=int(params['n_estimators']),\n",
        "        max_depth=int(params['max_depth']), \n",
        "        min_samples_leaf=int(params['min_samples_leaf']),\n",
        "        min_samples_split=int(params['min_samples_split']),\n",
        "        n_jobs=-1,\n",
        "        verbose=0,\n",
        "        random_state=seed)\n",
        "    return model\n",
        "\n",
        "\n",
        "# fit and evaluate model    \n",
        "def fit_eval_skl(model, X_trn, y_trn, X_tst, y_tst):    \n",
        "    model.fit(X_trn, y_trn)\n",
        "    y_pred = model.predict(X_tst)\n",
        "    return mse(y_tst, y_pred)\n",
        "\n",
        "#print(model.feature_importances_)"
      ],
      "execution_count": 0,
      "outputs": []
    },
    {
      "cell_type": "code",
      "metadata": {
        "id": "6rvrsCwiw8QW",
        "colab_type": "code",
        "outputId": "9db7a7df-6782-415f-e26f-b7986181b169",
        "colab": {
          "base_uri": "https://localhost:8080/",
          "height": 85
        }
      },
      "source": [
        "# taking 4 input variables\n",
        "cv_scores_lr = run_CV_0(model_lr, X_l1, y_l, 'linear', {})\n",
        "cv_scores_ridge = run_CV_0(model_ridge, X_l1, y_l, 'ridge', {})\n",
        "cv_scores_lasso = run_CV_0(model_lasso, X_l1, y_l, 'lasso', {})\n",
        "cv_scores_rfr = run_CV_0(model_rfr, X_nl1, y_nl, 'random forest', {'max_depth': 2.0, 'min_samples_leaf': 4.0, 'min_samples_split': 16.0, 'n_estimators': 800.0})"
      ],
      "execution_count": 0,
      "outputs": [
        {
          "output_type": "stream",
          "text": [
            "10 fold cross validation score for model \" linear \": 127.69 +- 39.35\n",
            "10 fold cross validation score for model \" ridge \": 127.66 +- 40.49\n",
            "10 fold cross validation score for model \" lasso \": 129.56 +- 39.96\n",
            "10 fold cross validation score for model \" random forest \": 124.68 +- 41.80\n"
          ],
          "name": "stdout"
        }
      ]
    },
    {
      "cell_type": "code",
      "metadata": {
        "id": "Tfk3kdnFip0k",
        "colab_type": "code",
        "colab": {}
      },
      "source": [
        ""
      ],
      "execution_count": 0,
      "outputs": []
    },
    {
      "cell_type": "code",
      "metadata": {
        "id": "EcrPzQUkipwT",
        "colab_type": "code",
        "colab": {}
      },
      "source": [
        ""
      ],
      "execution_count": 0,
      "outputs": []
    },
    {
      "cell_type": "code",
      "metadata": {
        "id": "dZrncDSuv03P",
        "colab_type": "code",
        "outputId": "a290a5aa-9eeb-4553-8705-b0b4050273bf",
        "colab": {
          "base_uri": "https://localhost:8080/",
          "height": 85
        }
      },
      "source": [
        "# taking 9 input variables\n",
        "cv_scores_lr_9 = run_CV_0(model_lr, X_l, y_l, 'linear', {})\n",
        "cv_scores_ridge_9 = run_CV_0(model_ridge, X_l, y_l, 'ridge', {})\n",
        "cv_scores_lasso_9 = run_CV_0(model_lasso, X_l, y_l, 'lasso', {})\n",
        "cv_scores_rfr_9 = run_CV_0(model_rfr, X_l, y_l, 'random forest', {'max_depth': 2.0, 'min_samples_leaf': 4.0, 'min_samples_split': 16.0, 'n_estimators': 800.0})"
      ],
      "execution_count": 0,
      "outputs": [
        {
          "output_type": "stream",
          "text": [
            "10 fold cross validation score for model \" linear \": 141.03 +- 56.75\n",
            "10 fold cross validation score for model \" ridge \": 131.92 +- 44.55\n",
            "10 fold cross validation score for model \" lasso \": 132.99 +- 47.35\n",
            "10 fold cross validation score for model \" random forest \": 130.59 +- 47.35\n"
          ],
          "name": "stdout"
        }
      ]
    },
    {
      "cell_type": "code",
      "metadata": {
        "id": "pxMUBswAiz48",
        "colab_type": "code",
        "colab": {}
      },
      "source": [
        "# (non-linearity has limited effect on improvement of the regression)"
      ],
      "execution_count": 0,
      "outputs": []
    },
    {
      "cell_type": "code",
      "metadata": {
        "id": "whX9pi4dBBG6",
        "colab_type": "code",
        "colab": {}
      },
      "source": [
        ""
      ],
      "execution_count": 0,
      "outputs": []
    },
    {
      "cell_type": "code",
      "metadata": {
        "id": "pzdGfsympy3Z",
        "colab_type": "code",
        "colab": {}
      },
      "source": [
        "# functions to compute target scores for hyperopt\n",
        "\n",
        "def rfr_score(params):\n",
        "    #cv_scores_rfr = run_CV_0(model_rfr, X_nl1, y_nl, 'random forest', params)\n",
        "    cv_scores_rfr = run_CV_0(model_rfr, X_l, y_l, 'random forest', params)\n",
        "    return cv_scores_rfr\n",
        "\n",
        "\n",
        "\n",
        "def abr_score(params):\n",
        "    #cv_scores_abr = run_CV_0(model_rfr, X_nl1, y_nl, 'random forest', params)\n",
        "    cv_scores = run_CV_0(model_abr, X_l, y_l, 'AdaBoosting', params)\n",
        "    return cv_scores"
      ],
      "execution_count": 0,
      "outputs": []
    },
    {
      "cell_type": "code",
      "metadata": {
        "id": "1Lf_iHKvpy1q",
        "colab_type": "code",
        "colab": {}
      },
      "source": [
        "# hyperparameter search spaces\n",
        "spaces = {}\n",
        "\n",
        "spaces['rfr'] = {\n",
        "    'n_estimators': hp.quniform('n_estimators', 50, 800, 100),\n",
        "    'max_depth' : hp.quniform('max_depth', 2, 10, 1),\n",
        "    'min_samples_leaf': hp.quniform('min_samples_leaf', 2, 10, 1), \n",
        "    'min_samples_split': hp.quniform('min_samples_split', 6, 22, 2),\n",
        "}\n",
        "\n",
        "\n",
        "# files to save tuning progress\n",
        "model_list = ['rfr']\n",
        "trials_dic = {}\n",
        "for key in model_list:\n",
        "    name_i = key+'_trials.joblib'\n",
        "    if os.path.exists(name_i):\n",
        "        trials = joblib.load(name_i)\n",
        "    else:\n",
        "        trials = Trials()\n",
        "\n",
        "#if os.path.exists('trials1.joblib'):\n",
        "#    trials = joblib.load('trials1.joblib')\n",
        "#else:\n",
        "#    trials = Trials()"
      ],
      "execution_count": 0,
      "outputs": []
    },
    {
      "cell_type": "code",
      "metadata": {
        "id": "Q_JZaRGKnGvy",
        "colab_type": "code",
        "colab": {}
      },
      "source": [
        ""
      ],
      "execution_count": 0,
      "outputs": []
    },
    {
      "cell_type": "code",
      "metadata": {
        "id": "sBNGwsq-pyzp",
        "colab_type": "code",
        "outputId": "b3e162e0-1a2e-490a-ced0-85e7729a3820",
        "colab": {
          "base_uri": "https://localhost:8080/",
          "height": 1000
        }
      },
      "source": [
        "\"\"\"\n",
        "n_periods = 24#2\n",
        "save_period = 5\n",
        "n_iter_this = n_periods * save_period\n",
        "print('current number of trials: ', len(trials))\n",
        "\n",
        "for i in range(int(n_iter_this/save_period)):\n",
        "\n",
        "    n_iter_i = save_period + len(trials)\n",
        "\n",
        "    Best = fmin(\n",
        "                 fn = rfr_score,\n",
        "                 space = space,\n",
        "                 algo = tpe.suggest,\n",
        "                 max_evals = n_iter_i,\n",
        "                 trials = trials,\n",
        "                 rstate = np.random.RandomState(seed),\n",
        "                 verbose = True\n",
        "               )\n",
        "    \n",
        "    if True:\n",
        "        print('saving..')\n",
        "        joblib.dump(trials, 'trials1.joblib')\n",
        "        !cp trials.joblib drive/My\\ Drive/save/trials.joblib\n",
        "\"\"\""
      ],
      "execution_count": 0,
      "outputs": [
        {
          "output_type": "stream",
          "text": [
            "current number of trials:  374\n",
            "10\n",
            "fold cross validation score for model \"\n",
            "random forest\n",
            "\": 125.88 +- 46.73\n",
            "10\n",
            "fold cross validation score for model \"\n",
            "random forest\n",
            "\": 128.72 +- 45.34\n",
            "10\n",
            "fold cross validation score for model \"\n",
            "random forest\n",
            "\": 126.55 +- 45.62\n",
            "10\n",
            "fold cross validation score for model \"\n",
            "random forest\n",
            "\": 132.56 +- 49.15\n",
            "10\n",
            "fold cross validation score for model \"\n",
            "random forest\n",
            "\": 127.88 +- 46.57\n",
            "100%|██████████| 5/5 [01:15<00:00, 14.72s/it, best loss: 125.18902460170848]\n",
            "saving..\n",
            "10\n",
            "fold cross validation score for model \"\n",
            "random forest\n",
            "\": 125.22 +- 45.38\n",
            "10\n",
            "fold cross validation score for model \"\n",
            "random forest\n",
            "\": 125.60 +- 46.66\n",
            "10\n",
            "fold cross validation score for model \"\n",
            "random forest\n",
            "\": 126.77 +- 43.95\n",
            "10\n",
            "fold cross validation score for model \"\n",
            "random forest\n",
            "\": 125.47 +- 46.44\n",
            "10\n",
            "fold cross validation score for model \"\n",
            "random forest\n",
            "\": 130.91 +- 46.80\n",
            "100%|██████████| 5/5 [01:09<00:00, 13.38s/it, best loss: 125.18902460170848]\n",
            "saving..\n",
            "10\n",
            "fold cross validation score for model \"\n",
            "random forest\n",
            "\": 125.88 +- 46.73\n",
            "10\n",
            "fold cross validation score for model \"\n",
            "random forest\n",
            "\": 125.32 +- 45.26\n",
            "10\n",
            "fold cross validation score for model \"\n",
            "random forest\n",
            "\": 129.03 +- 45.66\n",
            "10\n",
            "fold cross validation score for model \"\n",
            "random forest\n",
            "\": 130.07 +- 44.76\n",
            "10\n",
            "fold cross validation score for model \"\n",
            "random forest\n",
            "\": 126.59 +- 45.92\n",
            "100%|██████████| 5/5 [01:05<00:00, 13.43s/it, best loss: 125.18902460170848]\n",
            "saving..\n",
            "10\n",
            "fold cross validation score for model \"\n",
            "random forest\n",
            "\": 132.90 +- 46.32\n",
            "10\n",
            "fold cross validation score for model \"\n",
            "random forest\n",
            "\": 125.41 +- 46.31\n",
            "10\n",
            "fold cross validation score for model \"\n",
            "random forest\n",
            "\": 126.38 +- 45.55\n",
            "10\n",
            "fold cross validation score for model \"\n",
            "random forest\n",
            "\": 133.50 +- 47.00\n",
            "10\n",
            "fold cross validation score for model \"\n",
            "random forest\n",
            "\": 125.42 +- 46.32\n",
            "100%|██████████| 5/5 [01:16<00:00, 15.19s/it, best loss: 125.18902460170848]\n",
            "saving..\n",
            "10\n",
            "fold cross validation score for model \"\n",
            "random forest\n",
            "\": 126.88 +- 44.27\n",
            "10\n",
            "fold cross validation score for model \"\n",
            "random forest\n",
            "\": 125.69 +- 45.63\n",
            "10\n",
            "fold cross validation score for model \"\n",
            "random forest\n",
            "\": 125.88 +- 47.98\n",
            "10\n",
            "fold cross validation score for model \"\n",
            "random forest\n",
            "\": 125.42 +- 46.32\n",
            "10\n",
            "fold cross validation score for model \"\n",
            "random forest\n",
            "\": 125.21 +- 45.35\n",
            "100%|██████████| 5/5 [01:04<00:00, 13.82s/it, best loss: 125.18902460170848]\n",
            "saving..\n",
            "10\n",
            "fold cross validation score for model \"\n",
            "random forest\n",
            "\": 127.32 +- 44.43\n",
            "10\n",
            "fold cross validation score for model \"\n",
            "random forest\n",
            "\": 126.53 +- 46.01\n",
            "10\n",
            "fold cross validation score for model \"\n",
            "random forest\n",
            "\": 125.19 +- 45.36\n",
            "10\n",
            "fold cross validation score for model \"\n",
            "random forest\n",
            "\": 125.19 +- 45.36\n",
            "10\n",
            "fold cross validation score for model \"\n",
            "random forest\n",
            "\": 125.19 +- 45.36\n",
            "100%|██████████| 5/5 [01:13<00:00, 15.22s/it, best loss: 125.18902460170848]\n",
            "saving..\n",
            "10\n",
            "fold cross validation score for model \"\n",
            "random forest\n",
            "\": 127.81 +- 47.10\n",
            "10\n",
            "fold cross validation score for model \"\n",
            "random forest\n",
            "\": 125.19 +- 45.36\n",
            "10\n",
            "fold cross validation score for model \"\n",
            "random forest\n",
            "\": 125.19 +- 45.36\n",
            "10\n",
            "fold cross validation score for model \"\n",
            "random forest\n",
            "\": 125.21 +- 45.35\n",
            "10\n",
            "fold cross validation score for model \"\n",
            "random forest\n",
            "\": 125.19 +- 45.36\n",
            "100%|██████████| 5/5 [01:20<00:00, 16.06s/it, best loss: 125.18902460170848]\n",
            "saving..\n",
            "10\n",
            "fold cross validation score for model \"\n",
            "random forest\n",
            "\": 125.42 +- 46.32\n",
            "10\n",
            "fold cross validation score for model \"\n",
            "random forest\n",
            "\": 125.22 +- 45.38\n",
            "10\n",
            "fold cross validation score for model \"\n",
            "random forest\n",
            "\": 126.70 +- 44.41\n",
            "10\n",
            "fold cross validation score for model \"\n",
            "random forest\n",
            "\": 125.21 +- 45.35\n",
            "10\n",
            "fold cross validation score for model \"\n",
            "random forest\n",
            "\": 125.42 +- 46.32\n",
            "100%|██████████| 5/5 [01:23<00:00, 16.50s/it, best loss: 125.18902460170848]\n",
            "saving..\n",
            "10\n",
            "fold cross validation score for model \"\n",
            "random forest\n",
            "\": 127.32 +- 44.43\n",
            "10\n",
            "fold cross validation score for model \"\n",
            "random forest\n",
            "\": 125.21 +- 45.35\n",
            "10\n",
            "fold cross validation score for model \"\n",
            "random forest\n",
            "\": 126.70 +- 44.41\n",
            "10\n",
            "fold cross validation score for model \"\n",
            "random forest\n",
            "\": 125.59 +- 46.66\n",
            "10\n",
            "fold cross validation score for model \"\n",
            "random forest\n",
            "\": 125.19 +- 45.36\n",
            "100%|██████████| 5/5 [01:17<00:00, 15.49s/it, best loss: 125.18902460170848]\n",
            "saving..\n",
            "10\n",
            "fold cross validation score for model \"\n",
            "random forest\n",
            "\": 125.29 +- 45.28\n",
            "10\n",
            "fold cross validation score for model \"\n",
            "random forest\n",
            "\": 125.42 +- 46.32\n",
            "10\n",
            "fold cross validation score for model \"\n",
            "random forest\n",
            "\": 126.70 +- 44.41\n",
            "10\n",
            "fold cross validation score for model \"\n",
            "random forest\n",
            "\": 125.33 +- 45.29\n",
            "10\n",
            "fold cross validation score for model \"\n",
            "random forest\n",
            "\": 125.42 +- 46.32\n",
            "100%|██████████| 5/5 [01:16<00:00, 15.18s/it, best loss: 125.18902460170848]\n",
            "saving..\n",
            "10\n",
            "fold cross validation score for model \"\n",
            "random forest\n",
            "\": 125.22 +- 45.38\n",
            "10\n",
            "fold cross validation score for model \"\n",
            "random forest\n",
            "\": 126.77 +- 43.95\n",
            "10\n",
            "fold cross validation score for model \"\n",
            "random forest\n",
            "\": 125.21 +- 45.35\n",
            "10\n",
            "fold cross validation score for model \"\n",
            "random forest\n",
            "\": 125.60 +- 46.66\n",
            "10\n",
            "fold cross validation score for model \"\n",
            "random forest\n",
            "\": 126.88 +- 44.27\n",
            "100%|██████████| 5/5 [01:13<00:00, 14.79s/it, best loss: 125.18902460170848]\n",
            "saving..\n",
            "10\n",
            "fold cross validation score for model \"\n",
            "random forest\n",
            "\": 125.19 +- 45.36\n",
            "10\n",
            "fold cross validation score for model \"\n",
            "random forest\n",
            "\": 125.21 +- 45.35\n",
            "10\n",
            "fold cross validation score for model \"\n",
            "random forest\n",
            "\": 125.41 +- 46.31\n",
            "10\n",
            "fold cross validation score for model \"\n",
            "random forest\n",
            "\": 126.70 +- 44.41\n",
            "10\n",
            "fold cross validation score for model \"\n",
            "random forest\n",
            "\": 128.01 +- 47.49\n",
            "100%|██████████| 5/5 [01:17<00:00, 15.34s/it, best loss: 125.18902460170848]\n",
            "saving..\n",
            "10\n",
            "fold cross validation score for model \"\n",
            "random forest\n",
            "\": 125.29 +- 45.28\n",
            "10\n",
            "fold cross validation score for model \"\n",
            "random forest\n",
            "\": 126.81 +- 44.72\n",
            "10\n",
            "fold cross validation score for model \"\n",
            "random forest\n",
            "\": 125.60 +- 46.66\n",
            "10\n",
            "fold cross validation score for model \"\n",
            "random forest\n",
            "\": 125.22 +- 45.38\n",
            "10\n",
            "fold cross validation score for model \"\n",
            "random forest\n",
            "\": 125.42 +- 46.32\n",
            "100%|██████████| 5/5 [01:17<00:00, 15.64s/it, best loss: 125.18902460170848]\n",
            "saving..\n",
            "10\n",
            "fold cross validation score for model \"\n",
            "random forest\n",
            "\": 125.19 +- 45.36\n",
            "10\n",
            "fold cross validation score for model \"\n",
            "random forest\n",
            "\": 127.24 +- 44.21\n",
            "10\n",
            "fold cross validation score for model \"\n",
            "random forest\n",
            "\": 125.33 +- 45.29\n",
            "10\n",
            "fold cross validation score for model \"\n",
            "random forest\n",
            "\": 133.36 +- 47.24\n",
            "10\n",
            "fold cross validation score for model \"\n",
            "random forest\n",
            "\": 125.21 +- 45.35\n",
            "100%|██████████| 5/5 [01:17<00:00, 15.72s/it, best loss: 125.18902460170848]\n",
            "saving..\n",
            "10\n",
            "fold cross validation score for model \"\n",
            "random forest\n",
            "\": 129.92 +- 46.69\n",
            "10\n",
            "fold cross validation score for model \"\n",
            "random forest\n",
            "\": 126.88 +- 44.27\n",
            "10\n",
            "fold cross validation score for model \"\n",
            "random forest\n",
            "\": 125.42 +- 46.32\n",
            "10\n",
            "fold cross validation score for model \"\n",
            "random forest\n",
            "\": 125.60 +- 46.66\n",
            "10\n",
            "fold cross validation score for model \"\n",
            "random forest\n",
            "\": 126.70 +- 44.41\n",
            "100%|██████████| 5/5 [01:16<00:00, 15.47s/it, best loss: 125.18902460170848]\n",
            "saving..\n",
            "10\n",
            "fold cross validation score for model \"\n",
            "random forest\n",
            "\": 126.10 +- 45.55\n",
            "10\n",
            "fold cross validation score for model \"\n",
            "random forest\n",
            "\": 125.29 +- 45.28\n",
            "10\n",
            "fold cross validation score for model \"\n",
            "random forest\n",
            "\": 125.41 +- 46.31\n",
            "10\n",
            "fold cross validation score for model \"\n",
            "random forest\n",
            "\": 126.70 +- 44.41\n",
            "10\n",
            "fold cross validation score for model \"\n",
            "random forest\n",
            "\": 131.64 +- 45.85\n",
            "100%|██████████| 5/5 [01:18<00:00, 15.98s/it, best loss: 125.18902460170848]\n",
            "saving..\n",
            "10\n",
            "fold cross validation score for model \"\n",
            "random forest\n",
            "\": 127.26 +- 46.64\n",
            "10\n",
            "fold cross validation score for model \"\n",
            "random forest\n",
            "\": 125.60 +- 46.66\n",
            "10\n",
            "fold cross validation score for model \"\n",
            "random forest\n",
            "\": 125.32 +- 45.26\n",
            "10\n",
            "fold cross validation score for model \"\n",
            "random forest\n",
            "\": 127.10 +- 44.45\n",
            "10\n",
            "fold cross validation score for model \"\n",
            "random forest\n",
            "\": 127.81 +- 47.10\n",
            "100%|██████████| 5/5 [01:10<00:00, 14.02s/it, best loss: 125.18902460170848]\n",
            "saving..\n",
            "10\n",
            "fold cross validation score for model \"\n",
            "random forest\n",
            "\": 127.53 +- 46.02\n",
            "10\n",
            "fold cross validation score for model \"\n",
            "random forest\n",
            "\": 133.36 +- 47.24\n",
            "10\n",
            "fold cross validation score for model \"\n",
            "random forest\n",
            "\": 126.12 +- 47.03\n",
            "10\n",
            "fold cross validation score for model \"\n",
            "random forest\n",
            "\": 125.42 +- 46.32\n",
            "10\n",
            "fold cross validation score for model \"\n",
            "random forest\n",
            "\": 126.65 +- 44.41\n",
            "100%|██████████| 5/5 [01:17<00:00, 15.50s/it, best loss: 125.18902460170848]\n",
            "saving..\n",
            "10\n",
            "fold cross validation score for model \"\n",
            "random forest\n",
            "\": 125.22 +- 45.38\n",
            "10\n",
            "fold cross validation score for model \"\n",
            "random forest\n",
            "\": 125.60 +- 46.66\n",
            "10\n",
            "fold cross validation score for model \"\n",
            "random forest\n",
            "\": 125.32 +- 45.26\n",
            "10\n",
            "fold cross validation score for model \"\n",
            "random forest\n",
            "\": 127.51 +- 44.64\n",
            "10\n",
            "fold cross validation score for model \"\n",
            "random forest\n",
            "\": 126.38 +- 45.93\n",
            "100%|██████████| 5/5 [01:12<00:00, 14.84s/it, best loss: 125.18902460170848]\n",
            "saving..\n",
            "10\n",
            "fold cross validation score for model \"\n",
            "random forest\n",
            "\": 125.42 +- 46.32\n",
            "10\n",
            "fold cross validation score for model \"\n",
            "random forest\n",
            "\": 126.12 +- 47.03\n",
            "10\n",
            "fold cross validation score for model \"\n",
            "random forest\n",
            "\": 129.46 +- 46.44\n",
            "10\n",
            "fold cross validation score for model \"\n",
            "random forest\n",
            "\": 136.43 +- 49.85\n",
            "10\n",
            "fold cross validation score for model \"\n",
            "random forest\n",
            "\": 125.19 +- 45.36\n",
            "100%|██████████| 5/5 [01:08<00:00, 14.41s/it, best loss: 125.18902460170848]\n",
            "saving..\n",
            "10\n",
            "fold cross validation score for model \"\n",
            "random forest\n",
            "\": 126.05 +- 45.50\n",
            "10\n",
            "fold cross validation score for model \"\n",
            "random forest\n",
            "\": 125.60 +- 46.66\n",
            "10\n",
            "fold cross validation score for model \"\n",
            "random forest\n",
            "\": 127.24 +- 44.21\n",
            "10\n",
            "fold cross validation score for model \"\n",
            "random forest\n",
            "\": 125.75 +- 45.64\n",
            "10\n",
            "fold cross validation score for model \"\n",
            "random forest\n",
            "\": 127.12 +- 47.62\n",
            "100%|██████████| 5/5 [01:04<00:00, 12.17s/it, best loss: 125.18902460170848]\n",
            "saving..\n",
            "10\n",
            "fold cross validation score for model \"\n",
            "random forest\n",
            "\": 126.08 +- 45.50\n",
            "10\n",
            "fold cross validation score for model \"\n",
            "random forest\n",
            "\": 125.88 +- 46.73\n",
            "10\n",
            "fold cross validation score for model \"\n",
            "random forest\n",
            "\": 126.75 +- 43.95\n",
            "10\n",
            "fold cross validation score for model \"\n",
            "random forest\n",
            "\": 126.05 +- 45.50\n",
            "10\n",
            "fold cross validation score for model \"\n",
            "random forest\n",
            "\": 130.36 +- 46.36\n",
            "100%|██████████| 5/5 [01:17<00:00, 15.46s/it, best loss: 125.18902460170848]\n",
            "saving..\n",
            "10\n",
            "fold cross validation score for model \"\n",
            "random forest\n",
            "\": 131.64 +- 45.85\n",
            "10\n",
            "fold cross validation score for model \"\n",
            "random forest\n",
            "\": 125.76 +- 46.95\n",
            "10\n",
            "fold cross validation score for model \"\n",
            "random forest\n",
            "\": 125.19 +- 45.36\n",
            "10\n",
            "fold cross validation score for model \"\n",
            "random forest\n",
            "\": 125.59 +- 46.66\n",
            "10\n",
            "fold cross validation score for model \"\n",
            "random forest\n",
            "\": 125.19 +- 45.36\n",
            "100%|██████████| 5/5 [01:15<00:00, 15.40s/it, best loss: 125.18902460170848]\n",
            "saving..\n",
            "10\n",
            "fold cross validation score for model \"\n",
            "random forest\n",
            "\": 128.09 +- 45.26\n",
            "10\n",
            "fold cross validation score for model \"\n",
            "random forest\n",
            "\": 125.42 +- 46.32\n",
            "10\n",
            "fold cross validation score for model \"\n",
            "random forest\n",
            "\": 130.07 +- 44.76\n",
            "10\n",
            "fold cross validation score for model \"\n",
            "random forest\n",
            "\": 130.33 +- 47.26\n",
            "10\n",
            "fold cross validation score for model \"\n",
            "random forest\n",
            "\": 130.09 +- 46.80\n",
            "100%|██████████| 5/5 [01:09<00:00, 12.94s/it, best loss: 125.18902460170848]\n",
            "saving..\n"
          ],
          "name": "stdout"
        }
      ]
    },
    {
      "cell_type": "code",
      "metadata": {
        "id": "kz_9yX8X7LvA",
        "colab_type": "code",
        "colab": {}
      },
      "source": [
        ""
      ],
      "execution_count": 0,
      "outputs": []
    },
    {
      "cell_type": "code",
      "metadata": {
        "id": "NCKSmmBEpysu",
        "colab_type": "code",
        "outputId": "00ddabd4-4070-45ee-ca30-cf9bd9b20fb1",
        "colab": {
          "base_uri": "https://localhost:8080/",
          "height": 34
        }
      },
      "source": [
        "print('best parameters: ', Best)\n",
        "#trials.results"
      ],
      "execution_count": 0,
      "outputs": [
        {
          "output_type": "stream",
          "text": [
            "best parameters:  {'max_depth': 2.0, 'min_samples_leaf': 4.0, 'min_samples_split': 16.0, 'n_estimators': 800.0}\n"
          ],
          "name": "stdout"
        }
      ]
    },
    {
      "cell_type": "code",
      "metadata": {
        "id": "gDahep1uyZZx",
        "colab_type": "code",
        "colab": {}
      },
      "source": [
        ""
      ],
      "execution_count": 0,
      "outputs": []
    },
    {
      "cell_type": "code",
      "metadata": {
        "id": "VxjAaEdFD1GN",
        "colab_type": "code",
        "colab": {}
      },
      "source": [
        ""
      ],
      "execution_count": 0,
      "outputs": []
    },
    {
      "cell_type": "code",
      "metadata": {
        "id": "W2dU1G0iAMfy",
        "colab_type": "code",
        "colab": {}
      },
      "source": [
        "\"\"\"\n",
        "rfr4 = model_rfr()\n",
        "rfr4.fit(X_nl1, y_nl)\n",
        "print('total mean square error for random forest model: ', mse(y_nl, rfr4.predict(X_nl1)))\n",
        "print(rfr4.predict([[1,1,1,1]])[0])\n",
        "print(rfr4.predict([[1,0,1,1]])[0])\n",
        "print(rfr4.predict([[0,1,0,0.16]])[0])\n",
        "\n",
        "lr4 = model_lr()\n",
        "lr4.fit(X_nl1, y_nl)\n",
        "print('total mean square error for linear model: ', mse(y_nl, lr4.predict(X_nl1)))\n",
        "print(lr4.predict([[1,1,1,1]])[0])\n",
        "print(lr4.predict([[1,0,1,1]])[0])\n",
        "print(lr4.predict([[0,1,0,0.16]])[0])\n",
        "\"\"\""
      ],
      "execution_count": 0,
      "outputs": []
    },
    {
      "cell_type": "code",
      "metadata": {
        "id": "Br1TnlmXD4lQ",
        "colab_type": "code",
        "colab": {}
      },
      "source": [
        "\"\"\"\n",
        "df_test = pd.DataFrame({'y_pred': rfr4.predict(X_nl1), 'y_true': y_nl})\n",
        "df_test['res'] = np.square(df_test.y_true - df_test.y_pred)\n",
        "df_test.res.sum()/len(df_test)\n",
        "\n",
        "df_t = pd.DataFrame({'y_pred': lr4.predict(X_nl1), 'y_true': y_nl})\n",
        "df_t['res'] = np.square(df_t.y_true - df_t.y_pred)\n",
        "df_t.res.sum()/len(df_t)\n",
        "\n",
        "pd.set_option('display.max_rows', 90)\n",
        "df_tt = pd.merge( df_test.drop('res', axis=1), df_t.drop('res', axis=1), on='y_true', suffixes=('_rfr','_lr') ).sort_values('y_true', ascending=False)\n",
        "df_tt\n",
        "\"\"\"\n",
        "\n",
        "\n",
        "\"\"\"\n",
        "rfr9 = model_rfr()\n",
        "rfr9.fit(X_l, y_l)\n",
        "print(rfr9.predict([[1,1,1,1,0,1,0,1,0]])[0])\n",
        "print(rfr9.predict([[1,0,0,1,0,0,0,0.72,0.65]])[0])\n",
        "\n",
        "lr9 = model_lr()\n",
        "lr9.fit(X_l, y_l)\n",
        "print(lr9.predict([[1,1,1,1,0,1,0,1,0]])[0])\n",
        "print(lr9.predict([[1,0,0,1,0,0,0,0.72,0.65]])[0])\n",
        "\"\"\""
      ],
      "execution_count": 0,
      "outputs": []
    },
    {
      "cell_type": "code",
      "metadata": {
        "id": "SHRRYepuD4qp",
        "colab_type": "code",
        "colab": {}
      },
      "source": [
        ""
      ],
      "execution_count": 0,
      "outputs": []
    },
    {
      "cell_type": "code",
      "metadata": {
        "id": "RUEbTNVXEe5K",
        "colab_type": "code",
        "colab": {}
      },
      "source": [
        ""
      ],
      "execution_count": 0,
      "outputs": []
    },
    {
      "cell_type": "code",
      "metadata": {
        "id": "ldy92LIaFfyN",
        "colab_type": "code",
        "colab": {}
      },
      "source": [
        ""
      ],
      "execution_count": 0,
      "outputs": []
    },
    {
      "cell_type": "code",
      "metadata": {
        "id": "vMqPkX8hFfwQ",
        "colab_type": "code",
        "colab": {}
      },
      "source": [
        "# does neural network help?\n",
        "# (not really and it took way longer to convert)"
      ],
      "execution_count": 0,
      "outputs": []
    },
    {
      "cell_type": "code",
      "metadata": {
        "id": "gzoCXjGcLhVS",
        "colab_type": "code",
        "colab": {}
      },
      "source": [
        "n_epochs = 4000\n",
        "\n",
        "ES = EarlyStopping(monitor='val_loss',\n",
        "                   patience=5,\n",
        "                   restore_best_weights=True)    \n",
        "\n",
        "# number of model params: in_dim + 1\n",
        "def model_linear(in_dim):\n",
        "    model = Sequential()\n",
        "    model.add(Dense(1, input_dim=in_dim))\n",
        "    #model.compile(optimizer='adam', loss='MSE')\n",
        "    #print(model.summary())\n",
        "    return model\n",
        "\n",
        "# number of model params: in_dim + 1\n",
        "def model_nl1(in_dim):\n",
        "    model = Sequential()\n",
        "    model.add(Dense(1, input_dim=in_dim, activation='sigmoid'))\n",
        "    return model\n",
        "\n",
        "# number of model params: (in_dim+1) * n_nodes + (n_nodes+1) * 1\n",
        "def model_nl2(in_dim):\n",
        "    n_nodes = 2\n",
        "    model = Sequential()\n",
        "    model.add(Dense(n_nodes, input_dim=in_dim, activation='tanh'))\n",
        "    model.add(Dense(1, activation='sigmoid'))\n",
        "    return model\n",
        "\n",
        "# fit and evaluate model\n",
        "def fit_eval(model, X_trn, y_trn, X_tst, y_tst, n_epochs):\n",
        "    model.fit(\n",
        "        x=X_trn,\n",
        "        y=y_trn/100,\n",
        "        batch_size=83, #32,\n",
        "        epochs=n_epochs,\n",
        "        shuffle=True,\n",
        "        validation_split=0.2,\n",
        "        callbacks=[ES],\n",
        "        verbose=0\n",
        "        )\n",
        "    return mse(y_tst, 100 * model.predict(X_tst))\n",
        "\n",
        "# compute cross validation scores\n",
        "def run_CV(model, data, labels, model_name):\n",
        "    cv_scores = []\n",
        "    k_folds = KFold(n_splits=n_folds, shuffle=True, random_state=seed)\n",
        "    n_feats = data.shape[1]\n",
        "\n",
        "    for i_trn, i_tst in k_folds.split(labels):\n",
        "        i_model = model(n_feats)\n",
        "        i_model.compile(optimizer='adam', loss='MSE')\n",
        "        i_score = fit_eval(i_model, data[i_trn], labels[i_trn], data[i_tst], labels[i_tst], n_epochs)\n",
        "        cv_scores.append(i_score) \n",
        "\n",
        "    #print(i_model.summary())\n",
        "\n",
        "    print(n_folds, 'fold cross validation score for model \"', model_name, '\": %.2f +- %.2f' % (np.mean(cv_scores), np.std(cv_scores)))\n",
        "    return cv_scores"
      ],
      "execution_count": 0,
      "outputs": []
    },
    {
      "cell_type": "code",
      "metadata": {
        "id": "PYZV_XizOArq",
        "colab_type": "code",
        "outputId": "3ebf7cc6-9195-4231-c800-7ef834edff2a",
        "colab": {
          "base_uri": "https://localhost:8080/",
          "height": 51
        }
      },
      "source": [
        "cv_scores_l = run_CV(model_linear, X_l1, y_l, 'linear')\n",
        "#cv_scores_nl1 = run_CV(model_nl1, X_l1, y_l, 'non-linear1')\n",
        "cv_scores_nl2 = run_CV(model_nl2, X_nl1, y_nl, 'non-linear2')"
      ],
      "execution_count": 0,
      "outputs": [
        {
          "output_type": "stream",
          "text": [
            "10 fold cross validation score for model \" linear \": 165.55 +- 83.99\n",
            "10 fold cross validation score for model \" non-linear2 \": 161.74 +- 64.73\n"
          ],
          "name": "stdout"
        }
      ]
    },
    {
      "cell_type": "code",
      "metadata": {
        "id": "NVpCg84gOAoh",
        "colab_type": "code",
        "colab": {}
      },
      "source": [
        ""
      ],
      "execution_count": 0,
      "outputs": []
    },
    {
      "cell_type": "code",
      "metadata": {
        "id": "oyo_CCyIjDjV",
        "colab_type": "code",
        "colab": {}
      },
      "source": [
        "\"\"\"\n",
        "nn_linear = model_linear(in_dim=9)\n",
        "nn_linear.compile(optimizer='adam', loss='MSE')\n",
        "print(nn_linear.summary())\n",
        "\n",
        "if_trn = True\n",
        "if if_trn:\n",
        "    nn_linear.fit(\n",
        "            x=X_linear,\n",
        "            y=y_linear/100,\n",
        "            batch_size=32,\n",
        "            epochs=n_epochs,\n",
        "            shuffle=True,\n",
        "            #validation_split=0.2,\n",
        "            callbacks=[ES],\n",
        "            verbose=0 \n",
        "            )\n",
        "    \n",
        "pd.DataFrame({'features': X_linear.columns, 'weights': nn_linear.layers[0].get_weights()[0].reshape((1,-1))[0]})    \n",
        "\n",
        "\n",
        "w = nn_linear.layers[0].get_weights()[0]\n",
        "#ww = np.array(w)\n",
        "www = np.array([i[0] for i in w])   \n",
        "\n",
        "best = (www > 0).reshape((-1,9))#.astype(int)\n",
        "df_best = pd.DataFrame({'features': X_linear.columns[:-2], 'presented': best[0][:-2]}) \n",
        "print('best config: ')\n",
        "print(df_best)\n",
        "print('predicted winpercent: ', round(nn_linear.predict(best)[0,0] * 100, 1))\n",
        "\"\"\""
      ],
      "execution_count": 0,
      "outputs": []
    },
    {
      "cell_type": "code",
      "metadata": {
        "id": "hqMMjNDywukY",
        "colab_type": "code",
        "colab": {}
      },
      "source": [
        ""
      ],
      "execution_count": 0,
      "outputs": []
    },
    {
      "cell_type": "code",
      "metadata": {
        "id": "ax1lwsAQKr8h",
        "colab_type": "code",
        "colab": {}
      },
      "source": [
        "\"\"\"\n",
        "# trying out some generated features\n",
        "\n",
        "df_new_var = pd.DataFrame()\n",
        "df_new_var['winpercent'] = inf.winpercent \n",
        "\n",
        "df_new_var['sugar_above_avg'] = (inf.sugarpercent > 0.5).astype(int)\n",
        "df_new_var['price_above_avg'] = (inf.pricepercent > 0.5).astype(int)\n",
        "df_new_var['sugar_price_ratio'] = inf.sugarpercent / inf.pricepercent\n",
        "\n",
        "\n",
        "df_new_var['n_features1'] = inf.fruity + inf.peanutyalmondy + inf.nougat + inf.crispedricewafer \n",
        "df_new_var['n_features2'] = inf.fruity + inf.caramel + inf.nougat + inf.crispedricewafer \n",
        "df_new_var['n_features3'] = inf.fruity + inf.caramel + inf.peanutyalmondy + inf.crispedricewafer \n",
        "df_new_var['n_features4'] = inf.fruity + inf.caramel + inf.peanutyalmondy + inf.nougat \n",
        "df_new_var['n_features5'] = inf.fruity + inf.caramel + inf.peanutyalmondy + inf.nougat + inf.crispedricewafer \n",
        "df_new_var['n_features6'] = inf.caramel + inf.peanutyalmondy + inf.nougat + inf.crispedricewafer \n",
        "df_new_var['n_features7'] = inf.peanutyalmondy + inf.nougat + inf.crispedricewafer\n",
        "df_new_var['n_features8'] = inf.peanutyalmondy + inf.crispedricewafer\n",
        "df_new_var['n_features9'] = inf.peanutyalmondy + inf.nougat\n",
        "\n",
        "\n",
        "new_vars = ['sugar_above_avg',\n",
        "            'price_above_avg',\n",
        "            'sugar_price_ratio',\n",
        "            'n_features1',\n",
        "            'n_features2',\n",
        "            'n_features3',\n",
        "            'n_features4',\n",
        "            'n_features5',\n",
        "            'n_features6',\n",
        "            'n_features7',  \n",
        "            'n_features8',   \n",
        "            'n_features9',\n",
        "            ]\n",
        "\n",
        "new_var_win_corr = df_new_var.corr()\n",
        "sb.heatmap(new_var_win_corr)\n",
        "new_var_win_corr\n",
        "\"\"\""
      ],
      "execution_count": 0,
      "outputs": []
    },
    {
      "cell_type": "code",
      "metadata": {
        "id": "PEWPH2envYT-",
        "colab_type": "code",
        "colab": {}
      },
      "source": [
        ""
      ],
      "execution_count": 0,
      "outputs": []
    },
    {
      "cell_type": "code",
      "metadata": {
        "id": "IeUtDtV-KFFq",
        "colab_type": "code",
        "colab": {}
      },
      "source": [
        "# no significant improvement from non-linear model over linear model found\n",
        "#"
      ],
      "execution_count": 0,
      "outputs": []
    },
    {
      "cell_type": "markdown",
      "metadata": {
        "id": "FZ8M1ON2A5_W",
        "colab_type": "text"
      },
      "source": [
        "## todos\n",
        "\n",
        "1. Is the matches truely random?\n",
        "2. Is the choices of the participants random? Do they represent the whole population?\n",
        "3. What other features of the candies can be explored?\n",
        "4. New features?"
      ]
    },
    {
      "cell_type": "code",
      "metadata": {
        "id": "dk949BS-VBU3",
        "colab_type": "code",
        "colab": {}
      },
      "source": [
        "    # 600 5 6 -> 127.05 +- 42.08\n",
        "    # 500 6 6 -> 127.05 +- 42.06\n",
        "    # 500 6 5 -> 126.94 +- 43.35\n",
        "    # 600 6 5 -> 126.82 +- 43.26\n",
        "    # 600 7 5 -> 126.82 +- 43.26\n",
        "\n",
        "    # 600 3 5 -> 126.09 +- 42.54\n",
        "    # 650 3 5 -> 126.04 +- 42.53\n",
        "    # 650 3 5 15 -> 124.83 +- 41.15\n",
        "    # 650 3 5 17 -> 124.77 +- 40.28\n",
        "    # 650 2 5 17 -> 123.37 +- 40.64\n",
        "    # 650 2 5 14 -> 123.16 +- 40.83\n",
        "    \n",
        "    \"\"\"\n",
        "    model = RFR(\n",
        "        criterion='mse',\n",
        "        n_estimators=650,\n",
        "        max_depth=2, \n",
        "        min_samples_leaf=5,\n",
        "        min_samples_split=14,\n",
        "        n_jobs=-1,\n",
        "        verbose=0,\n",
        "        random_state=seed)\n",
        "    \"\"\""
      ],
      "execution_count": 0,
      "outputs": []
    }
  ]
}